{
  "nbformat": 4,
  "nbformat_minor": 0,
  "metadata": {
    "kernelspec": {
      "display_name": "Python 3",
      "language": "python",
      "name": "python3"
    },
    "language_info": {
      "codemirror_mode": {
        "name": "ipython",
        "version": 3
      },
      "file_extension": ".py",
      "mimetype": "text/x-python",
      "name": "python",
      "nbconvert_exporter": "python",
      "pygments_lexer": "ipython3",
      "version": "3.7.3"
    },
    "colab": {
      "name": "KAlam Car Price Prediction assignment.ipynb",
      "provenance": [],
      "collapsed_sections": []
    }
  },
  "cells": [
    {
      "cell_type": "markdown",
      "metadata": {
        "id": "FYnOHcGM0c6U"
      },
      "source": [
        "# Car Price Prediction::"
      ]
    },
    {
      "cell_type": "markdown",
      "metadata": {
        "id": "f1yNjPdk0c6Z"
      },
      "source": [
        "Download dataset from this link:\n",
        "\n",
        "https://www.kaggle.com/hellbuoy/car-price-prediction"
      ]
    },
    {
      "cell_type": "markdown",
      "metadata": {
        "id": "l65jwaKH0c6a"
      },
      "source": [
        "# Problem Statement::"
      ]
    },
    {
      "cell_type": "markdown",
      "metadata": {
        "id": "CP1idPsX0c6a"
      },
      "source": [
        "A Chinese automobile company Geely Auto aspires to enter the US market by setting up their manufacturing unit there and producing cars locally to give competition to their US and European counterparts.\n",
        "\n",
        "They have contracted an automobile consulting company to understand the factors on which the pricing of cars depends. Specifically, they want to understand the factors affecting the pricing of cars in the American market, since those may be very different from the Chinese market. The company wants to know:\n",
        "\n",
        "Which variables are significant in predicting the price of a car\n",
        "How well those variables describe the price of a car\n",
        "Based on various market surveys, the consulting firm has gathered a large data set of different types of cars across the America market.\n",
        "\n",
        "# task::\n",
        "We are required to model the price of cars with the available independent variables. It will be used by the management to understand how exactly the prices vary with the independent variables. They can accordingly manipulate the design of the cars, the business strategy etc. to meet certain price levels. Further, the model will be a good way for management to understand the pricing dynamics of a new market."
      ]
    },
    {
      "cell_type": "markdown",
      "metadata": {
        "id": "PR7qInyU0c6b"
      },
      "source": [
        "# WORKFLOW ::"
      ]
    },
    {
      "cell_type": "markdown",
      "metadata": {
        "id": "uJmxrkZM0c6b"
      },
      "source": [
        "1.Load Data\n",
        "\n",
        "2.Check Missing Values ( If Exist ; Fill each record with mean of its feature )\n",
        "\n",
        "3.Split into 50% Training(Samples,Labels) , 30% Test(Samples,Labels) and 20% Validation Data(Samples,Labels).\n",
        "\n",
        "4.Model : input Layer (No. of features ), 3 hidden layers including 10,8,6 unit & Output Layer with activation function relu/tanh (check by experiment).\n",
        "\n",
        "5.Compilation Step (Note : Its a Regression problem , select loss , metrics according to it)\n",
        "6.Train the Model with Epochs (100) and validate it\n",
        "\n",
        "7.If the model gets overfit tune your model by changing the units , No. of layers , activation function , epochs , add dropout layer or add Regularizer according to the need .\n",
        "\n",
        "8.Evaluation Step\n",
        "\n",
        "9.Prediction"
      ]
    },
    {
      "cell_type": "markdown",
      "metadata": {
        "id": "2vaMN-PO9x-n"
      },
      "source": [
        "#1.Load Data"
      ]
    },
    {
      "cell_type": "code",
      "metadata": {
        "colab": {
          "base_uri": "https://localhost:8080/",
          "height": 489
        },
        "id": "HYCkZpa40c6c",
        "outputId": "3159c083-680a-41c2-ed4c-355cafeb9351"
      },
      "source": [
        "import numpy as np\n",
        "import pandas as pd\n",
        "data =  pd.read_csv('CarPrice_Assignment.csv')\n",
        "data"
      ],
      "execution_count": null,
      "outputs": [
        {
          "output_type": "execute_result",
          "data": {
            "text/html": [
              "<div>\n",
              "<style scoped>\n",
              "    .dataframe tbody tr th:only-of-type {\n",
              "        vertical-align: middle;\n",
              "    }\n",
              "\n",
              "    .dataframe tbody tr th {\n",
              "        vertical-align: top;\n",
              "    }\n",
              "\n",
              "    .dataframe thead th {\n",
              "        text-align: right;\n",
              "    }\n",
              "</style>\n",
              "<table border=\"1\" class=\"dataframe\">\n",
              "  <thead>\n",
              "    <tr style=\"text-align: right;\">\n",
              "      <th></th>\n",
              "      <th>car_ID</th>\n",
              "      <th>symboling</th>\n",
              "      <th>CarName</th>\n",
              "      <th>fueltype</th>\n",
              "      <th>aspiration</th>\n",
              "      <th>doornumber</th>\n",
              "      <th>carbody</th>\n",
              "      <th>drivewheel</th>\n",
              "      <th>enginelocation</th>\n",
              "      <th>wheelbase</th>\n",
              "      <th>carlength</th>\n",
              "      <th>carwidth</th>\n",
              "      <th>carheight</th>\n",
              "      <th>curbweight</th>\n",
              "      <th>enginetype</th>\n",
              "      <th>cylindernumber</th>\n",
              "      <th>enginesize</th>\n",
              "      <th>fuelsystem</th>\n",
              "      <th>boreratio</th>\n",
              "      <th>stroke</th>\n",
              "      <th>compressionratio</th>\n",
              "      <th>horsepower</th>\n",
              "      <th>peakrpm</th>\n",
              "      <th>citympg</th>\n",
              "      <th>highwaympg</th>\n",
              "      <th>price</th>\n",
              "    </tr>\n",
              "  </thead>\n",
              "  <tbody>\n",
              "    <tr>\n",
              "      <th>0</th>\n",
              "      <td>1</td>\n",
              "      <td>3</td>\n",
              "      <td>alfa-romero giulia</td>\n",
              "      <td>gas</td>\n",
              "      <td>std</td>\n",
              "      <td>two</td>\n",
              "      <td>convertible</td>\n",
              "      <td>rwd</td>\n",
              "      <td>front</td>\n",
              "      <td>88.6</td>\n",
              "      <td>168.8</td>\n",
              "      <td>64.1</td>\n",
              "      <td>48.8</td>\n",
              "      <td>2548</td>\n",
              "      <td>dohc</td>\n",
              "      <td>four</td>\n",
              "      <td>130</td>\n",
              "      <td>mpfi</td>\n",
              "      <td>3.47</td>\n",
              "      <td>2.68</td>\n",
              "      <td>9.0</td>\n",
              "      <td>111</td>\n",
              "      <td>5000</td>\n",
              "      <td>21</td>\n",
              "      <td>27</td>\n",
              "      <td>13495.0</td>\n",
              "    </tr>\n",
              "    <tr>\n",
              "      <th>1</th>\n",
              "      <td>2</td>\n",
              "      <td>3</td>\n",
              "      <td>alfa-romero stelvio</td>\n",
              "      <td>gas</td>\n",
              "      <td>std</td>\n",
              "      <td>two</td>\n",
              "      <td>convertible</td>\n",
              "      <td>rwd</td>\n",
              "      <td>front</td>\n",
              "      <td>88.6</td>\n",
              "      <td>168.8</td>\n",
              "      <td>64.1</td>\n",
              "      <td>48.8</td>\n",
              "      <td>2548</td>\n",
              "      <td>dohc</td>\n",
              "      <td>four</td>\n",
              "      <td>130</td>\n",
              "      <td>mpfi</td>\n",
              "      <td>3.47</td>\n",
              "      <td>2.68</td>\n",
              "      <td>9.0</td>\n",
              "      <td>111</td>\n",
              "      <td>5000</td>\n",
              "      <td>21</td>\n",
              "      <td>27</td>\n",
              "      <td>16500.0</td>\n",
              "    </tr>\n",
              "    <tr>\n",
              "      <th>2</th>\n",
              "      <td>3</td>\n",
              "      <td>1</td>\n",
              "      <td>alfa-romero Quadrifoglio</td>\n",
              "      <td>gas</td>\n",
              "      <td>std</td>\n",
              "      <td>two</td>\n",
              "      <td>hatchback</td>\n",
              "      <td>rwd</td>\n",
              "      <td>front</td>\n",
              "      <td>94.5</td>\n",
              "      <td>171.2</td>\n",
              "      <td>65.5</td>\n",
              "      <td>52.4</td>\n",
              "      <td>2823</td>\n",
              "      <td>ohcv</td>\n",
              "      <td>six</td>\n",
              "      <td>152</td>\n",
              "      <td>mpfi</td>\n",
              "      <td>2.68</td>\n",
              "      <td>3.47</td>\n",
              "      <td>9.0</td>\n",
              "      <td>154</td>\n",
              "      <td>5000</td>\n",
              "      <td>19</td>\n",
              "      <td>26</td>\n",
              "      <td>16500.0</td>\n",
              "    </tr>\n",
              "    <tr>\n",
              "      <th>3</th>\n",
              "      <td>4</td>\n",
              "      <td>2</td>\n",
              "      <td>audi 100 ls</td>\n",
              "      <td>gas</td>\n",
              "      <td>std</td>\n",
              "      <td>four</td>\n",
              "      <td>sedan</td>\n",
              "      <td>fwd</td>\n",
              "      <td>front</td>\n",
              "      <td>99.8</td>\n",
              "      <td>176.6</td>\n",
              "      <td>66.2</td>\n",
              "      <td>54.3</td>\n",
              "      <td>2337</td>\n",
              "      <td>ohc</td>\n",
              "      <td>four</td>\n",
              "      <td>109</td>\n",
              "      <td>mpfi</td>\n",
              "      <td>3.19</td>\n",
              "      <td>3.40</td>\n",
              "      <td>10.0</td>\n",
              "      <td>102</td>\n",
              "      <td>5500</td>\n",
              "      <td>24</td>\n",
              "      <td>30</td>\n",
              "      <td>13950.0</td>\n",
              "    </tr>\n",
              "    <tr>\n",
              "      <th>4</th>\n",
              "      <td>5</td>\n",
              "      <td>2</td>\n",
              "      <td>audi 100ls</td>\n",
              "      <td>gas</td>\n",
              "      <td>std</td>\n",
              "      <td>four</td>\n",
              "      <td>sedan</td>\n",
              "      <td>4wd</td>\n",
              "      <td>front</td>\n",
              "      <td>99.4</td>\n",
              "      <td>176.6</td>\n",
              "      <td>66.4</td>\n",
              "      <td>54.3</td>\n",
              "      <td>2824</td>\n",
              "      <td>ohc</td>\n",
              "      <td>five</td>\n",
              "      <td>136</td>\n",
              "      <td>mpfi</td>\n",
              "      <td>3.19</td>\n",
              "      <td>3.40</td>\n",
              "      <td>8.0</td>\n",
              "      <td>115</td>\n",
              "      <td>5500</td>\n",
              "      <td>18</td>\n",
              "      <td>22</td>\n",
              "      <td>17450.0</td>\n",
              "    </tr>\n",
              "    <tr>\n",
              "      <th>...</th>\n",
              "      <td>...</td>\n",
              "      <td>...</td>\n",
              "      <td>...</td>\n",
              "      <td>...</td>\n",
              "      <td>...</td>\n",
              "      <td>...</td>\n",
              "      <td>...</td>\n",
              "      <td>...</td>\n",
              "      <td>...</td>\n",
              "      <td>...</td>\n",
              "      <td>...</td>\n",
              "      <td>...</td>\n",
              "      <td>...</td>\n",
              "      <td>...</td>\n",
              "      <td>...</td>\n",
              "      <td>...</td>\n",
              "      <td>...</td>\n",
              "      <td>...</td>\n",
              "      <td>...</td>\n",
              "      <td>...</td>\n",
              "      <td>...</td>\n",
              "      <td>...</td>\n",
              "      <td>...</td>\n",
              "      <td>...</td>\n",
              "      <td>...</td>\n",
              "      <td>...</td>\n",
              "    </tr>\n",
              "    <tr>\n",
              "      <th>200</th>\n",
              "      <td>201</td>\n",
              "      <td>-1</td>\n",
              "      <td>volvo 145e (sw)</td>\n",
              "      <td>gas</td>\n",
              "      <td>std</td>\n",
              "      <td>four</td>\n",
              "      <td>sedan</td>\n",
              "      <td>rwd</td>\n",
              "      <td>front</td>\n",
              "      <td>109.1</td>\n",
              "      <td>188.8</td>\n",
              "      <td>68.9</td>\n",
              "      <td>55.5</td>\n",
              "      <td>2952</td>\n",
              "      <td>ohc</td>\n",
              "      <td>four</td>\n",
              "      <td>141</td>\n",
              "      <td>mpfi</td>\n",
              "      <td>3.78</td>\n",
              "      <td>3.15</td>\n",
              "      <td>9.5</td>\n",
              "      <td>114</td>\n",
              "      <td>5400</td>\n",
              "      <td>23</td>\n",
              "      <td>28</td>\n",
              "      <td>16845.0</td>\n",
              "    </tr>\n",
              "    <tr>\n",
              "      <th>201</th>\n",
              "      <td>202</td>\n",
              "      <td>-1</td>\n",
              "      <td>volvo 144ea</td>\n",
              "      <td>gas</td>\n",
              "      <td>turbo</td>\n",
              "      <td>four</td>\n",
              "      <td>sedan</td>\n",
              "      <td>rwd</td>\n",
              "      <td>front</td>\n",
              "      <td>109.1</td>\n",
              "      <td>188.8</td>\n",
              "      <td>68.8</td>\n",
              "      <td>55.5</td>\n",
              "      <td>3049</td>\n",
              "      <td>ohc</td>\n",
              "      <td>four</td>\n",
              "      <td>141</td>\n",
              "      <td>mpfi</td>\n",
              "      <td>3.78</td>\n",
              "      <td>3.15</td>\n",
              "      <td>8.7</td>\n",
              "      <td>160</td>\n",
              "      <td>5300</td>\n",
              "      <td>19</td>\n",
              "      <td>25</td>\n",
              "      <td>19045.0</td>\n",
              "    </tr>\n",
              "    <tr>\n",
              "      <th>202</th>\n",
              "      <td>203</td>\n",
              "      <td>-1</td>\n",
              "      <td>volvo 244dl</td>\n",
              "      <td>gas</td>\n",
              "      <td>std</td>\n",
              "      <td>four</td>\n",
              "      <td>sedan</td>\n",
              "      <td>rwd</td>\n",
              "      <td>front</td>\n",
              "      <td>109.1</td>\n",
              "      <td>188.8</td>\n",
              "      <td>68.9</td>\n",
              "      <td>55.5</td>\n",
              "      <td>3012</td>\n",
              "      <td>ohcv</td>\n",
              "      <td>six</td>\n",
              "      <td>173</td>\n",
              "      <td>mpfi</td>\n",
              "      <td>3.58</td>\n",
              "      <td>2.87</td>\n",
              "      <td>8.8</td>\n",
              "      <td>134</td>\n",
              "      <td>5500</td>\n",
              "      <td>18</td>\n",
              "      <td>23</td>\n",
              "      <td>21485.0</td>\n",
              "    </tr>\n",
              "    <tr>\n",
              "      <th>203</th>\n",
              "      <td>204</td>\n",
              "      <td>-1</td>\n",
              "      <td>volvo 246</td>\n",
              "      <td>diesel</td>\n",
              "      <td>turbo</td>\n",
              "      <td>four</td>\n",
              "      <td>sedan</td>\n",
              "      <td>rwd</td>\n",
              "      <td>front</td>\n",
              "      <td>109.1</td>\n",
              "      <td>188.8</td>\n",
              "      <td>68.9</td>\n",
              "      <td>55.5</td>\n",
              "      <td>3217</td>\n",
              "      <td>ohc</td>\n",
              "      <td>six</td>\n",
              "      <td>145</td>\n",
              "      <td>idi</td>\n",
              "      <td>3.01</td>\n",
              "      <td>3.40</td>\n",
              "      <td>23.0</td>\n",
              "      <td>106</td>\n",
              "      <td>4800</td>\n",
              "      <td>26</td>\n",
              "      <td>27</td>\n",
              "      <td>22470.0</td>\n",
              "    </tr>\n",
              "    <tr>\n",
              "      <th>204</th>\n",
              "      <td>205</td>\n",
              "      <td>-1</td>\n",
              "      <td>volvo 264gl</td>\n",
              "      <td>gas</td>\n",
              "      <td>turbo</td>\n",
              "      <td>four</td>\n",
              "      <td>sedan</td>\n",
              "      <td>rwd</td>\n",
              "      <td>front</td>\n",
              "      <td>109.1</td>\n",
              "      <td>188.8</td>\n",
              "      <td>68.9</td>\n",
              "      <td>55.5</td>\n",
              "      <td>3062</td>\n",
              "      <td>ohc</td>\n",
              "      <td>four</td>\n",
              "      <td>141</td>\n",
              "      <td>mpfi</td>\n",
              "      <td>3.78</td>\n",
              "      <td>3.15</td>\n",
              "      <td>9.5</td>\n",
              "      <td>114</td>\n",
              "      <td>5400</td>\n",
              "      <td>19</td>\n",
              "      <td>25</td>\n",
              "      <td>22625.0</td>\n",
              "    </tr>\n",
              "  </tbody>\n",
              "</table>\n",
              "<p>205 rows × 26 columns</p>\n",
              "</div>"
            ],
            "text/plain": [
              "     car_ID  symboling                   CarName  ... citympg highwaympg    price\n",
              "0         1          3        alfa-romero giulia  ...      21         27  13495.0\n",
              "1         2          3       alfa-romero stelvio  ...      21         27  16500.0\n",
              "2         3          1  alfa-romero Quadrifoglio  ...      19         26  16500.0\n",
              "3         4          2               audi 100 ls  ...      24         30  13950.0\n",
              "4         5          2                audi 100ls  ...      18         22  17450.0\n",
              "..      ...        ...                       ...  ...     ...        ...      ...\n",
              "200     201         -1           volvo 145e (sw)  ...      23         28  16845.0\n",
              "201     202         -1               volvo 144ea  ...      19         25  19045.0\n",
              "202     203         -1               volvo 244dl  ...      18         23  21485.0\n",
              "203     204         -1                 volvo 246  ...      26         27  22470.0\n",
              "204     205         -1               volvo 264gl  ...      19         25  22625.0\n",
              "\n",
              "[205 rows x 26 columns]"
            ]
          },
          "metadata": {
            "tags": []
          },
          "execution_count": 1
        }
      ]
    },
    {
      "cell_type": "markdown",
      "metadata": {
        "id": "CjOEuuqS90T6"
      },
      "source": [
        "#2.Check Missing Values ( If Exist ; Fill each record with mean of its feature )"
      ]
    },
    {
      "cell_type": "code",
      "metadata": {
        "colab": {
          "base_uri": "https://localhost:8080/"
        },
        "id": "Nwuoo_RB0c6c",
        "outputId": "6e21805d-9ece-43d1-c96e-381e1f43c274"
      },
      "source": [
        "data.isnull().sum() #no null values."
      ],
      "execution_count": null,
      "outputs": [
        {
          "output_type": "execute_result",
          "data": {
            "text/plain": [
              "car_ID              0\n",
              "symboling           0\n",
              "CarName             0\n",
              "fueltype            0\n",
              "aspiration          0\n",
              "doornumber          0\n",
              "carbody             0\n",
              "drivewheel          0\n",
              "enginelocation      0\n",
              "wheelbase           0\n",
              "carlength           0\n",
              "carwidth            0\n",
              "carheight           0\n",
              "curbweight          0\n",
              "enginetype          0\n",
              "cylindernumber      0\n",
              "enginesize          0\n",
              "fuelsystem          0\n",
              "boreratio           0\n",
              "stroke              0\n",
              "compressionratio    0\n",
              "horsepower          0\n",
              "peakrpm             0\n",
              "citympg             0\n",
              "highwaympg          0\n",
              "price               0\n",
              "dtype: int64"
            ]
          },
          "metadata": {
            "tags": []
          },
          "execution_count": 2
        }
      ]
    },
    {
      "cell_type": "code",
      "metadata": {
        "colab": {
          "base_uri": "https://localhost:8080/"
        },
        "id": "ogjjs8WMDI1B",
        "outputId": "1cb0f001-ee62-44b3-ffe2-162f6bf4737e"
      },
      "source": [
        "data.info() # from this command we'll be able to see all the info. since we can't feed string values(object) into our model so we'll encode them."
      ],
      "execution_count": null,
      "outputs": [
        {
          "output_type": "stream",
          "text": [
            "<class 'pandas.core.frame.DataFrame'>\n",
            "RangeIndex: 205 entries, 0 to 204\n",
            "Data columns (total 26 columns):\n",
            " #   Column            Non-Null Count  Dtype  \n",
            "---  ------            --------------  -----  \n",
            " 0   car_ID            205 non-null    int64  \n",
            " 1   symboling         205 non-null    int64  \n",
            " 2   CarName           205 non-null    object \n",
            " 3   fueltype          205 non-null    object \n",
            " 4   aspiration        205 non-null    object \n",
            " 5   doornumber        205 non-null    object \n",
            " 6   carbody           205 non-null    object \n",
            " 7   drivewheel        205 non-null    object \n",
            " 8   enginelocation    205 non-null    object \n",
            " 9   wheelbase         205 non-null    float64\n",
            " 10  carlength         205 non-null    float64\n",
            " 11  carwidth          205 non-null    float64\n",
            " 12  carheight         205 non-null    float64\n",
            " 13  curbweight        205 non-null    int64  \n",
            " 14  enginetype        205 non-null    object \n",
            " 15  cylindernumber    205 non-null    object \n",
            " 16  enginesize        205 non-null    int64  \n",
            " 17  fuelsystem        205 non-null    object \n",
            " 18  boreratio         205 non-null    float64\n",
            " 19  stroke            205 non-null    float64\n",
            " 20  compressionratio  205 non-null    float64\n",
            " 21  horsepower        205 non-null    int64  \n",
            " 22  peakrpm           205 non-null    int64  \n",
            " 23  citympg           205 non-null    int64  \n",
            " 24  highwaympg        205 non-null    int64  \n",
            " 25  price             205 non-null    float64\n",
            "dtypes: float64(8), int64(8), object(10)\n",
            "memory usage: 41.8+ KB\n"
          ],
          "name": "stdout"
        }
      ]
    },
    {
      "cell_type": "code",
      "metadata": {
        "id": "6cwbmV6sDZIW"
      },
      "source": [
        "from sklearn.preprocessing import LabelEncoder\n",
        "labelencoder = LabelEncoder()\n",
        "data['fueltype'] = labelencoder.fit_transform(data['fueltype'])\n",
        "data['aspiration'] = labelencoder.fit_transform(data['aspiration'])\n",
        "data['carbody'] = labelencoder.fit_transform(data['carbody'])\n",
        "data['drivewheel'] = labelencoder.fit_transform(data['drivewheel'])\n",
        "data['enginelocation'] = labelencoder.fit_transform(data['enginelocation'])\n",
        "data['enginetype'] = labelencoder.fit_transform(data['enginetype'])\n",
        "data['fuelsystem'] = labelencoder.fit_transform(data['fuelsystem'])\n",
        "#data['cylindernumber'] = labelencoder.fit_transform(data['cylindernumber'])\n",
        "#data['doornumber'] = labelencoder.fit_transform(data['doornumber'])\n",
        "data['doornumber'] = data['doornumber'].map({'two':2,'four':4}) #we can do it like this also.\n",
        "data['cylindernumber'] = data['cylindernumber'].map({'two':2,'three':3,'four':4,'five':5,'six':6,'eight':8,'twelve':12}) \n"
      ],
      "execution_count": null,
      "outputs": []
    },
    {
      "cell_type": "code",
      "metadata": {
        "id": "nhmuDebMTCoB"
      },
      "source": [
        "#we are going to check correlation between independent and dependent variables such that the x variables with high correlation with y will be taken further for prediction of y.\n",
        "import seaborn as sns\n",
        "import matplotlib.pyplot as plt\n",
        "corrmatrics = data.corr()\n",
        "highcorr_features =  corrmatrics.index\n",
        "plt.figure(figsize=(20,20))\n",
        "plot = sns.heatmap(data[highcorr_features].corr(),annot=True,cmap='RdYlGn')"
      ],
      "execution_count": null,
      "outputs": []
    },
    {
      "cell_type": "code",
      "metadata": {
        "colab": {
          "base_uri": "https://localhost:8080/"
        },
        "id": "H6AzCw49VC44",
        "outputId": "4d43a12e-f9ab-4b8a-8eec-34fdb8d9c536"
      },
      "source": [
        "#From above heatmap we can see the correlation is the highest for followeing features:\n",
        "data1 = data[['price','horsepower','boreratio','fuelsystem','enginesize','curbweight','carwidth','carlength','wheelbase','drivewheel']]\n",
        "data1.shape"
      ],
      "execution_count": null,
      "outputs": [
        {
          "output_type": "execute_result",
          "data": {
            "text/plain": [
              "(205, 10)"
            ]
          },
          "metadata": {
            "tags": []
          },
          "execution_count": 5
        }
      ]
    },
    {
      "cell_type": "code",
      "metadata": {
        "colab": {
          "base_uri": "https://localhost:8080/",
          "height": 195
        },
        "id": "DdzqTBL8zsGt",
        "outputId": "4de74117-fe17-4775-d1e4-8e28bfd0abfe"
      },
      "source": [
        "#Normalizing the data\n",
        "from sklearn import preprocessing\n",
        "d = preprocessing.normalize(data1)\n",
        "names = ['price','horsepower','boreratio','fuelsystem','enginesize','curbweight','carwidth','carlength','wheelbase','drivewheel']\n",
        "data1_scaled = pd.DataFrame(d, columns=names)\n",
        "data1_scaled.head()"
      ],
      "execution_count": null,
      "outputs": [
        {
          "output_type": "execute_result",
          "data": {
            "text/html": [
              "<div>\n",
              "<style scoped>\n",
              "    .dataframe tbody tr th:only-of-type {\n",
              "        vertical-align: middle;\n",
              "    }\n",
              "\n",
              "    .dataframe tbody tr th {\n",
              "        vertical-align: top;\n",
              "    }\n",
              "\n",
              "    .dataframe thead th {\n",
              "        text-align: right;\n",
              "    }\n",
              "</style>\n",
              "<table border=\"1\" class=\"dataframe\">\n",
              "  <thead>\n",
              "    <tr style=\"text-align: right;\">\n",
              "      <th></th>\n",
              "      <th>price</th>\n",
              "      <th>horsepower</th>\n",
              "      <th>boreratio</th>\n",
              "      <th>fuelsystem</th>\n",
              "      <th>enginesize</th>\n",
              "      <th>curbweight</th>\n",
              "      <th>carwidth</th>\n",
              "      <th>carlength</th>\n",
              "      <th>wheelbase</th>\n",
              "      <th>drivewheel</th>\n",
              "    </tr>\n",
              "  </thead>\n",
              "  <tbody>\n",
              "    <tr>\n",
              "      <th>0</th>\n",
              "      <td>0.982457</td>\n",
              "      <td>0.008081</td>\n",
              "      <td>0.000253</td>\n",
              "      <td>0.000364</td>\n",
              "      <td>0.009464</td>\n",
              "      <td>0.185498</td>\n",
              "      <td>0.004667</td>\n",
              "      <td>0.012289</td>\n",
              "      <td>0.006450</td>\n",
              "      <td>0.000146</td>\n",
              "    </tr>\n",
              "    <tr>\n",
              "      <th>1</th>\n",
              "      <td>0.988162</td>\n",
              "      <td>0.006648</td>\n",
              "      <td>0.000208</td>\n",
              "      <td>0.000299</td>\n",
              "      <td>0.007786</td>\n",
              "      <td>0.152596</td>\n",
              "      <td>0.003839</td>\n",
              "      <td>0.010109</td>\n",
              "      <td>0.005306</td>\n",
              "      <td>0.000120</td>\n",
              "    </tr>\n",
              "    <tr>\n",
              "      <th>2</th>\n",
              "      <td>0.985520</td>\n",
              "      <td>0.009198</td>\n",
              "      <td>0.000160</td>\n",
              "      <td>0.000299</td>\n",
              "      <td>0.009079</td>\n",
              "      <td>0.168614</td>\n",
              "      <td>0.003912</td>\n",
              "      <td>0.010226</td>\n",
              "      <td>0.005644</td>\n",
              "      <td>0.000119</td>\n",
              "    </tr>\n",
              "    <tr>\n",
              "      <th>3</th>\n",
              "      <td>0.986089</td>\n",
              "      <td>0.007210</td>\n",
              "      <td>0.000225</td>\n",
              "      <td>0.000353</td>\n",
              "      <td>0.007705</td>\n",
              "      <td>0.165196</td>\n",
              "      <td>0.004680</td>\n",
              "      <td>0.012483</td>\n",
              "      <td>0.007055</td>\n",
              "      <td>0.000071</td>\n",
              "    </tr>\n",
              "    <tr>\n",
              "      <th>4</th>\n",
              "      <td>0.987035</td>\n",
              "      <td>0.006505</td>\n",
              "      <td>0.000180</td>\n",
              "      <td>0.000283</td>\n",
              "      <td>0.007693</td>\n",
              "      <td>0.159736</td>\n",
              "      <td>0.003756</td>\n",
              "      <td>0.009989</td>\n",
              "      <td>0.005622</td>\n",
              "      <td>0.000000</td>\n",
              "    </tr>\n",
              "  </tbody>\n",
              "</table>\n",
              "</div>"
            ],
            "text/plain": [
              "      price  horsepower  boreratio  ...  carlength  wheelbase  drivewheel\n",
              "0  0.982457    0.008081   0.000253  ...   0.012289   0.006450    0.000146\n",
              "1  0.988162    0.006648   0.000208  ...   0.010109   0.005306    0.000120\n",
              "2  0.985520    0.009198   0.000160  ...   0.010226   0.005644    0.000119\n",
              "3  0.986089    0.007210   0.000225  ...   0.012483   0.007055    0.000071\n",
              "4  0.987035    0.006505   0.000180  ...   0.009989   0.005622    0.000000\n",
              "\n",
              "[5 rows x 10 columns]"
            ]
          },
          "metadata": {
            "tags": []
          },
          "execution_count": 6
        }
      ]
    },
    {
      "cell_type": "markdown",
      "metadata": {
        "id": "vemlAQyU98Vw"
      },
      "source": [
        "#3.Split into 50% Training(Samples,Labels) , 30% Test(Samples,Labels) and 20% Validation Data(Samples,Labels)."
      ]
    },
    {
      "cell_type": "code",
      "metadata": {
        "id": "z47CXLtbBeGc",
        "colab": {
          "base_uri": "https://localhost:8080/"
        },
        "outputId": "f234dcd1-038a-44de-d4f1-06410a2c376d"
      },
      "source": [
        "x = data1_scaled.loc[:,data1_scaled.columns != 'price']\n",
        "y = data1_scaled.loc[:,data1_scaled.columns == 'price']\n",
        "from sklearn.model_selection import train_test_split\n",
        "x_train,x_test,y_train,y_test = train_test_split(x,y,test_size = 0.30,random_state=42)\n",
        "print(x_train.shape,y_train.shape)\n",
        "print(x_test.shape,y_test.shape)"
      ],
      "execution_count": null,
      "outputs": [
        {
          "output_type": "stream",
          "text": [
            "(143, 9) (143, 1)\n",
            "(62, 9) (62, 1)\n"
          ],
          "name": "stdout"
        }
      ]
    },
    {
      "cell_type": "code",
      "metadata": {
        "colab": {
          "base_uri": "https://localhost:8080/"
        },
        "id": "UK5tXuC-R86X",
        "outputId": "22b5fac9-4a15-4fd8-d2cc-8ad7043e53ce"
      },
      "source": [
        "x_train1,x_validation,y_train1,y_validation = train_test_split(x,y,test_size = 0.2,random_state = 42)\n",
        "\n",
        "print(x_train1.shape,y_train1.shape)\n",
        "print(x_validation.shape,y_validation.shape)"
      ],
      "execution_count": null,
      "outputs": [
        {
          "output_type": "stream",
          "text": [
            "(164, 9) (164, 1)\n",
            "(41, 9) (41, 1)\n"
          ],
          "name": "stdout"
        }
      ]
    },
    {
      "cell_type": "markdown",
      "metadata": {
        "id": "pxxo80VH9-dW"
      },
      "source": [
        "#4.Model : input Layer (No. of features ), 3 hidden layers including 10,8,6 unit & Output Layer with activation function relu/tanh (check by experiment)."
      ]
    },
    {
      "cell_type": "code",
      "metadata": {
        "id": "CopWF01t0c6c"
      },
      "source": [
        "from tensorflow.keras import models\n",
        "from tensorflow.keras import layers\n",
        "network = models.Sequential()\n",
        "network.add(layers.Dense(10, activation='relu', input_shape=(9,)))\n",
        "network.add(layers.Dense(8, activation='relu'))\n",
        "network.add(layers.Dense(6, activation='relu'))\n",
        "network.add(layers.Dense(1))"
      ],
      "execution_count": null,
      "outputs": []
    },
    {
      "cell_type": "markdown",
      "metadata": {
        "id": "S9lsR3Bj-EZz"
      },
      "source": [
        "#5.Compilation Step (Note : Its a Regression problem , select loss , metrics according to it)"
      ]
    },
    {
      "cell_type": "code",
      "metadata": {
        "id": "zHh0JSyQ0c6d"
      },
      "source": [
        "network.compile(optimizer='rmsprop', loss='mse', metrics=['mae'])"
      ],
      "execution_count": null,
      "outputs": []
    },
    {
      "cell_type": "markdown",
      "metadata": {
        "id": "87hbZTkG-Iqb"
      },
      "source": [
        "#6.Train the Model with Epochs (100) and validate it"
      ]
    },
    {
      "cell_type": "code",
      "metadata": {
        "colab": {
          "base_uri": "https://localhost:8080/"
        },
        "id": "yS7rU__80c6d",
        "outputId": "a64c0c07-fdae-4a20-89c8-021acc2d9a9a"
      },
      "source": [
        "network.fit(x_train, y_train, epochs=100, batch_size=128)"
      ],
      "execution_count": null,
      "outputs": [
        {
          "output_type": "stream",
          "text": [
            "Epoch 1/100\n",
            "2/2 [==============================] - 1s 6ms/step - loss: 0.9130 - mae: 0.9553\n",
            "Epoch 2/100\n",
            "2/2 [==============================] - 0s 4ms/step - loss: 0.8727 - mae: 0.9339\n",
            "Epoch 3/100\n",
            "2/2 [==============================] - 0s 8ms/step - loss: 0.8462 - mae: 0.9196\n",
            "Epoch 4/100\n",
            "2/2 [==============================] - 0s 5ms/step - loss: 0.8247 - mae: 0.9078\n",
            "Epoch 5/100\n",
            "2/2 [==============================] - 0s 4ms/step - loss: 0.8066 - mae: 0.8978\n",
            "Epoch 6/100\n",
            "2/2 [==============================] - 0s 5ms/step - loss: 0.7878 - mae: 0.8872\n",
            "Epoch 7/100\n",
            "2/2 [==============================] - 0s 5ms/step - loss: 0.7718 - mae: 0.8782\n",
            "Epoch 8/100\n",
            "2/2 [==============================] - 0s 4ms/step - loss: 0.7549 - mae: 0.8685\n",
            "Epoch 9/100\n",
            "2/2 [==============================] - 0s 5ms/step - loss: 0.7399 - mae: 0.8598\n",
            "Epoch 10/100\n",
            "2/2 [==============================] - 0s 4ms/step - loss: 0.7245 - mae: 0.8508\n",
            "Epoch 11/100\n",
            "2/2 [==============================] - 0s 4ms/step - loss: 0.7093 - mae: 0.8418\n",
            "Epoch 12/100\n",
            "2/2 [==============================] - 0s 3ms/step - loss: 0.6937 - mae: 0.8325\n",
            "Epoch 13/100\n",
            "2/2 [==============================] - 0s 3ms/step - loss: 0.6796 - mae: 0.8239\n",
            "Epoch 14/100\n",
            "2/2 [==============================] - 0s 3ms/step - loss: 0.6660 - mae: 0.8156\n",
            "Epoch 15/100\n",
            "2/2 [==============================] - 0s 3ms/step - loss: 0.6499 - mae: 0.8056\n",
            "Epoch 16/100\n",
            "2/2 [==============================] - 0s 6ms/step - loss: 0.6359 - mae: 0.7969\n",
            "Epoch 17/100\n",
            "2/2 [==============================] - 0s 6ms/step - loss: 0.6212 - mae: 0.7876\n",
            "Epoch 18/100\n",
            "2/2 [==============================] - 0s 5ms/step - loss: 0.6078 - mae: 0.7790\n",
            "Epoch 19/100\n",
            "2/2 [==============================] - 0s 5ms/step - loss: 0.5922 - mae: 0.7689\n",
            "Epoch 20/100\n",
            "2/2 [==============================] - 0s 8ms/step - loss: 0.5776 - mae: 0.7594\n",
            "Epoch 21/100\n",
            "2/2 [==============================] - 0s 5ms/step - loss: 0.5631 - mae: 0.7498\n",
            "Epoch 22/100\n",
            "2/2 [==============================] - 0s 5ms/step - loss: 0.5482 - mae: 0.7397\n",
            "Epoch 23/100\n",
            "2/2 [==============================] - 0s 6ms/step - loss: 0.5337 - mae: 0.7298\n",
            "Epoch 24/100\n",
            "2/2 [==============================] - 0s 6ms/step - loss: 0.5190 - mae: 0.7197\n",
            "Epoch 25/100\n",
            "2/2 [==============================] - 0s 6ms/step - loss: 0.5041 - mae: 0.7092\n",
            "Epoch 26/100\n",
            "2/2 [==============================] - 0s 7ms/step - loss: 0.4890 - mae: 0.6984\n",
            "Epoch 27/100\n",
            "2/2 [==============================] - 0s 4ms/step - loss: 0.4751 - mae: 0.6884\n",
            "Epoch 28/100\n",
            "2/2 [==============================] - 0s 5ms/step - loss: 0.4595 - mae: 0.6770\n",
            "Epoch 29/100\n",
            "2/2 [==============================] - 0s 5ms/step - loss: 0.4448 - mae: 0.6660\n",
            "Epoch 30/100\n",
            "2/2 [==============================] - 0s 4ms/step - loss: 0.4305 - mae: 0.6551\n",
            "Epoch 31/100\n",
            "2/2 [==============================] - 0s 6ms/step - loss: 0.4156 - mae: 0.6436\n",
            "Epoch 32/100\n",
            "2/2 [==============================] - 0s 4ms/step - loss: 0.4007 - mae: 0.6318\n",
            "Epoch 33/100\n",
            "2/2 [==============================] - 0s 7ms/step - loss: 0.3864 - mae: 0.6204\n",
            "Epoch 34/100\n",
            "2/2 [==============================] - 0s 4ms/step - loss: 0.3714 - mae: 0.6082\n",
            "Epoch 35/100\n",
            "2/2 [==============================] - 0s 6ms/step - loss: 0.3578 - mae: 0.5968\n",
            "Epoch 36/100\n",
            "2/2 [==============================] - 0s 9ms/step - loss: 0.3432 - mae: 0.5844\n",
            "Epoch 37/100\n",
            "2/2 [==============================] - 0s 5ms/step - loss: 0.3287 - mae: 0.5718\n",
            "Epoch 38/100\n",
            "2/2 [==============================] - 0s 6ms/step - loss: 0.3149 - mae: 0.5596\n",
            "Epoch 39/100\n",
            "2/2 [==============================] - 0s 5ms/step - loss: 0.3011 - mae: 0.5471\n",
            "Epoch 40/100\n",
            "2/2 [==============================] - 0s 5ms/step - loss: 0.2870 - mae: 0.5339\n",
            "Epoch 41/100\n",
            "2/2 [==============================] - 0s 10ms/step - loss: 0.2736 - mae: 0.5212\n",
            "Epoch 42/100\n",
            "2/2 [==============================] - 0s 5ms/step - loss: 0.2597 - mae: 0.5075\n",
            "Epoch 43/100\n",
            "2/2 [==============================] - 0s 5ms/step - loss: 0.2472 - mae: 0.4950\n",
            "Epoch 44/100\n",
            "2/2 [==============================] - 0s 5ms/step - loss: 0.2349 - mae: 0.4824\n",
            "Epoch 45/100\n",
            "2/2 [==============================] - 0s 5ms/step - loss: 0.2205 - mae: 0.4671\n",
            "Epoch 46/100\n",
            "2/2 [==============================] - 0s 8ms/step - loss: 0.2083 - mae: 0.4538\n",
            "Epoch 47/100\n",
            "2/2 [==============================] - 0s 5ms/step - loss: 0.1960 - mae: 0.4400\n",
            "Epoch 48/100\n",
            "2/2 [==============================] - 0s 7ms/step - loss: 0.1852 - mae: 0.4274\n",
            "Epoch 49/100\n",
            "2/2 [==============================] - 0s 5ms/step - loss: 0.1732 - mae: 0.4130\n",
            "Epoch 50/100\n",
            "2/2 [==============================] - 0s 5ms/step - loss: 0.1619 - mae: 0.3989\n",
            "Epoch 51/100\n",
            "2/2 [==============================] - 0s 5ms/step - loss: 0.1511 - mae: 0.3851\n",
            "Epoch 52/100\n",
            "2/2 [==============================] - 0s 4ms/step - loss: 0.1401 - mae: 0.3704\n",
            "Epoch 53/100\n",
            "2/2 [==============================] - 0s 4ms/step - loss: 0.1300 - mae: 0.3563\n",
            "Epoch 54/100\n",
            "2/2 [==============================] - 0s 15ms/step - loss: 0.1204 - mae: 0.3424\n",
            "Epoch 55/100\n",
            "2/2 [==============================] - 0s 6ms/step - loss: 0.1101 - mae: 0.3270\n",
            "Epoch 56/100\n",
            "2/2 [==============================] - 0s 8ms/step - loss: 0.1003 - mae: 0.3116\n",
            "Epoch 57/100\n",
            "2/2 [==============================] - 0s 9ms/step - loss: 0.0913 - mae: 0.2966\n",
            "Epoch 58/100\n",
            "2/2 [==============================] - 0s 5ms/step - loss: 0.0840 - mae: 0.2837\n",
            "Epoch 59/100\n",
            "2/2 [==============================] - 0s 10ms/step - loss: 0.0759 - mae: 0.2689\n",
            "Epoch 60/100\n",
            "2/2 [==============================] - 0s 6ms/step - loss: 0.0682 - mae: 0.2540\n",
            "Epoch 61/100\n",
            "2/2 [==============================] - 0s 7ms/step - loss: 0.0610 - mae: 0.2392\n",
            "Epoch 62/100\n",
            "2/2 [==============================] - 0s 16ms/step - loss: 0.0547 - mae: 0.2255\n",
            "Epoch 63/100\n",
            "2/2 [==============================] - 0s 5ms/step - loss: 0.0486 - mae: 0.2111\n",
            "Epoch 64/100\n",
            "2/2 [==============================] - 0s 3ms/step - loss: 0.0432 - mae: 0.1978\n",
            "Epoch 65/100\n",
            "2/2 [==============================] - 0s 8ms/step - loss: 0.0380 - mae: 0.1837\n",
            "Epoch 66/100\n",
            "2/2 [==============================] - 0s 6ms/step - loss: 0.0328 - mae: 0.1690\n",
            "Epoch 67/100\n",
            "2/2 [==============================] - 0s 7ms/step - loss: 0.0286 - mae: 0.1556\n",
            "Epoch 68/100\n",
            "2/2 [==============================] - 0s 12ms/step - loss: 0.0248 - mae: 0.1424\n",
            "Epoch 69/100\n",
            "2/2 [==============================] - 0s 11ms/step - loss: 0.0213 - mae: 0.1301\n",
            "Epoch 70/100\n",
            "2/2 [==============================] - 0s 5ms/step - loss: 0.0183 - mae: 0.1184\n",
            "Epoch 71/100\n",
            "2/2 [==============================] - 0s 5ms/step - loss: 0.0158 - mae: 0.1080\n",
            "Epoch 72/100\n",
            "2/2 [==============================] - 0s 4ms/step - loss: 0.0134 - mae: 0.0974\n",
            "Epoch 73/100\n",
            "2/2 [==============================] - 0s 4ms/step - loss: 0.0112 - mae: 0.0868\n",
            "Epoch 74/100\n",
            "2/2 [==============================] - 0s 5ms/step - loss: 0.0095 - mae: 0.0779\n",
            "Epoch 75/100\n",
            "2/2 [==============================] - 0s 7ms/step - loss: 0.0086 - mae: 0.0732\n",
            "Epoch 76/100\n",
            "2/2 [==============================] - 0s 4ms/step - loss: 0.0076 - mae: 0.0688\n",
            "Epoch 77/100\n",
            "2/2 [==============================] - 0s 10ms/step - loss: 0.0069 - mae: 0.0656\n",
            "Epoch 78/100\n",
            "2/2 [==============================] - 0s 7ms/step - loss: 0.0064 - mae: 0.0640\n",
            "Epoch 79/100\n",
            "2/2 [==============================] - 0s 5ms/step - loss: 0.0060 - mae: 0.0625\n",
            "Epoch 80/100\n",
            "2/2 [==============================] - 0s 6ms/step - loss: 0.0057 - mae: 0.0613\n",
            "Epoch 81/100\n",
            "2/2 [==============================] - 0s 5ms/step - loss: 0.0055 - mae: 0.0610\n",
            "Epoch 82/100\n",
            "2/2 [==============================] - 0s 4ms/step - loss: 0.0055 - mae: 0.0609\n",
            "Epoch 83/100\n",
            "2/2 [==============================] - 0s 7ms/step - loss: 0.0054 - mae: 0.0608\n",
            "Epoch 84/100\n",
            "2/2 [==============================] - 0s 4ms/step - loss: 0.0054 - mae: 0.0611\n",
            "Epoch 85/100\n",
            "2/2 [==============================] - 0s 4ms/step - loss: 0.0052 - mae: 0.0598\n",
            "Epoch 86/100\n",
            "2/2 [==============================] - 0s 4ms/step - loss: 0.0052 - mae: 0.0601\n",
            "Epoch 87/100\n",
            "2/2 [==============================] - 0s 4ms/step - loss: 0.0053 - mae: 0.0603\n",
            "Epoch 88/100\n",
            "2/2 [==============================] - 0s 5ms/step - loss: 0.0052 - mae: 0.0598\n",
            "Epoch 89/100\n",
            "2/2 [==============================] - 0s 10ms/step - loss: 0.0052 - mae: 0.0594\n",
            "Epoch 90/100\n",
            "2/2 [==============================] - 0s 4ms/step - loss: 0.0051 - mae: 0.0594\n",
            "Epoch 91/100\n",
            "2/2 [==============================] - 0s 4ms/step - loss: 0.0051 - mae: 0.0594\n",
            "Epoch 92/100\n",
            "2/2 [==============================] - 0s 7ms/step - loss: 0.0051 - mae: 0.0591\n",
            "Epoch 93/100\n",
            "2/2 [==============================] - 0s 4ms/step - loss: 0.0050 - mae: 0.0588\n",
            "Epoch 94/100\n",
            "2/2 [==============================] - 0s 4ms/step - loss: 0.0049 - mae: 0.0580\n",
            "Epoch 95/100\n",
            "2/2 [==============================] - 0s 4ms/step - loss: 0.0049 - mae: 0.0586\n",
            "Epoch 96/100\n",
            "2/2 [==============================] - 0s 4ms/step - loss: 0.0048 - mae: 0.0573\n",
            "Epoch 97/100\n",
            "2/2 [==============================] - 0s 4ms/step - loss: 0.0048 - mae: 0.0578\n",
            "Epoch 98/100\n",
            "2/2 [==============================] - 0s 4ms/step - loss: 0.0049 - mae: 0.0588\n",
            "Epoch 99/100\n",
            "2/2 [==============================] - 0s 4ms/step - loss: 0.0048 - mae: 0.0580\n",
            "Epoch 100/100\n",
            "2/2 [==============================] - 0s 8ms/step - loss: 0.0049 - mae: 0.0591\n"
          ],
          "name": "stdout"
        },
        {
          "output_type": "execute_result",
          "data": {
            "text/plain": [
              "<tensorflow.python.keras.callbacks.History at 0x7f7e76da7410>"
            ]
          },
          "metadata": {
            "tags": []
          },
          "execution_count": 16
        }
      ]
    },
    {
      "cell_type": "code",
      "metadata": {
        "colab": {
          "base_uri": "https://localhost:8080/"
        },
        "id": "Zmh92KTDJW9y",
        "outputId": "ebfe317e-adf8-4d72-c25c-5113d7f3084f"
      },
      "source": [
        "test_mse_score, test_mae_score = network.evaluate(x_test, y_test)"
      ],
      "execution_count": null,
      "outputs": [
        {
          "output_type": "stream",
          "text": [
            "2/2 [==============================] - 0s 5ms/step - loss: 0.0040 - mae: 0.0514\n"
          ],
          "name": "stdout"
        }
      ]
    },
    {
      "cell_type": "markdown",
      "metadata": {
        "id": "OwPP_cnD-SJz"
      },
      "source": [
        "#7.If the model gets overfit tune your model by changing the units , No. of layers , activation function , epochs , add dropout layer or add Regularizer according to the need."
      ]
    },
    {
      "cell_type": "code",
      "metadata": {
        "id": "5xlw3Lvg-Sq6",
        "colab": {
          "base_uri": "https://localhost:8080/"
        },
        "outputId": "e00ddda6-ad46-4843-bbde-fa7597312f4d"
      },
      "source": [
        "from tensorflow.keras import models\n",
        "from tensorflow.keras import layers\n",
        "network1 = models.Sequential()\n",
        "network1.add(layers.Dense(4, activation='relu', input_shape=(9,))) #decreasing the number of neurons.\n",
        "network1.add(layers.Dense(3, activation='relu'))\n",
        "network1.add(layers.Dense(2, activation='relu'))\n",
        "network1.add(layers.Dense(1))\n",
        "#network1.compile(optimizer='rmsprop', loss='mse', metrics=['mae'])\n",
        "network1.compile(optimizer='rmsprop', loss='mse', metrics=['mae'])\n",
        "network1.fit(x_train, y_train, epochs=50, batch_size=128)       #decreasing epochs.\n",
        "test_mse_score, test_mae_score = network1.evaluate(x_test, y_test)"
      ],
      "execution_count": null,
      "outputs": [
        {
          "output_type": "stream",
          "text": [
            "Epoch 1/50\n",
            "2/2 [==============================] - 1s 9ms/step - loss: 0.9463 - mae: 0.9727\n",
            "Epoch 2/50\n",
            "2/2 [==============================] - 0s 5ms/step - loss: 0.9366 - mae: 0.9677\n",
            "Epoch 3/50\n",
            "2/2 [==============================] - 0s 6ms/step - loss: 0.9294 - mae: 0.9640\n",
            "Epoch 4/50\n",
            "2/2 [==============================] - 0s 3ms/step - loss: 0.9233 - mae: 0.9608\n",
            "Epoch 5/50\n",
            "2/2 [==============================] - 0s 11ms/step - loss: 0.9181 - mae: 0.9580\n",
            "Epoch 6/50\n",
            "2/2 [==============================] - 0s 5ms/step - loss: 0.9136 - mae: 0.9557\n",
            "Epoch 7/50\n",
            "2/2 [==============================] - 0s 6ms/step - loss: 0.9087 - mae: 0.9532\n",
            "Epoch 8/50\n",
            "2/2 [==============================] - 0s 7ms/step - loss: 0.9050 - mae: 0.9512\n",
            "Epoch 9/50\n",
            "2/2 [==============================] - 0s 5ms/step - loss: 0.8999 - mae: 0.9485\n",
            "Epoch 10/50\n",
            "2/2 [==============================] - 0s 4ms/step - loss: 0.8969 - mae: 0.9469\n",
            "Epoch 11/50\n",
            "2/2 [==============================] - 0s 4ms/step - loss: 0.8924 - mae: 0.9446\n",
            "Epoch 12/50\n",
            "2/2 [==============================] - 0s 4ms/step - loss: 0.8885 - mae: 0.9425\n",
            "Epoch 13/50\n",
            "2/2 [==============================] - 0s 4ms/step - loss: 0.8849 - mae: 0.9406\n",
            "Epoch 14/50\n",
            "2/2 [==============================] - 0s 4ms/step - loss: 0.8809 - mae: 0.9384\n",
            "Epoch 15/50\n",
            "2/2 [==============================] - 0s 5ms/step - loss: 0.8771 - mae: 0.9364\n",
            "Epoch 16/50\n",
            "2/2 [==============================] - 0s 15ms/step - loss: 0.8730 - mae: 0.9342\n",
            "Epoch 17/50\n",
            "2/2 [==============================] - 0s 7ms/step - loss: 0.8695 - mae: 0.9323\n",
            "Epoch 18/50\n",
            "2/2 [==============================] - 0s 5ms/step - loss: 0.8652 - mae: 0.9301\n",
            "Epoch 19/50\n",
            "2/2 [==============================] - 0s 6ms/step - loss: 0.8621 - mae: 0.9284\n",
            "Epoch 20/50\n",
            "2/2 [==============================] - 0s 5ms/step - loss: 0.8582 - mae: 0.9263\n",
            "Epoch 21/50\n",
            "2/2 [==============================] - 0s 5ms/step - loss: 0.8541 - mae: 0.9241\n",
            "Epoch 22/50\n",
            "2/2 [==============================] - 0s 8ms/step - loss: 0.8505 - mae: 0.9221\n",
            "Epoch 23/50\n",
            "2/2 [==============================] - 0s 5ms/step - loss: 0.8466 - mae: 0.9200\n",
            "Epoch 24/50\n",
            "2/2 [==============================] - 0s 7ms/step - loss: 0.8436 - mae: 0.9184\n",
            "Epoch 25/50\n",
            "2/2 [==============================] - 0s 3ms/step - loss: 0.8396 - mae: 0.9162\n",
            "Epoch 26/50\n",
            "2/2 [==============================] - 0s 6ms/step - loss: 0.8361 - mae: 0.9142\n",
            "Epoch 27/50\n",
            "2/2 [==============================] - 0s 5ms/step - loss: 0.8323 - mae: 0.9122\n",
            "Epoch 28/50\n",
            "2/2 [==============================] - 0s 4ms/step - loss: 0.8286 - mae: 0.9101\n",
            "Epoch 29/50\n",
            "2/2 [==============================] - 0s 7ms/step - loss: 0.8256 - mae: 0.9085\n",
            "Epoch 30/50\n",
            "2/2 [==============================] - 0s 6ms/step - loss: 0.8218 - mae: 0.9064\n",
            "Epoch 31/50\n",
            "2/2 [==============================] - 0s 9ms/step - loss: 0.8181 - mae: 0.9044\n",
            "Epoch 32/50\n",
            "2/2 [==============================] - 0s 7ms/step - loss: 0.8143 - mae: 0.9023\n",
            "Epoch 33/50\n",
            "2/2 [==============================] - 0s 7ms/step - loss: 0.8106 - mae: 0.9002\n",
            "Epoch 34/50\n",
            "2/2 [==============================] - 0s 12ms/step - loss: 0.8072 - mae: 0.8983\n",
            "Epoch 35/50\n",
            "2/2 [==============================] - 0s 5ms/step - loss: 0.8041 - mae: 0.8966\n",
            "Epoch 36/50\n",
            "2/2 [==============================] - 0s 6ms/step - loss: 0.8001 - mae: 0.8944\n",
            "Epoch 37/50\n",
            "2/2 [==============================] - 0s 6ms/step - loss: 0.7971 - mae: 0.8927\n",
            "Epoch 38/50\n",
            "2/2 [==============================] - 0s 7ms/step - loss: 0.7934 - mae: 0.8906\n",
            "Epoch 39/50\n",
            "2/2 [==============================] - 0s 9ms/step - loss: 0.7895 - mae: 0.8884\n",
            "Epoch 40/50\n",
            "2/2 [==============================] - 0s 7ms/step - loss: 0.7861 - mae: 0.8865\n",
            "Epoch 41/50\n",
            "2/2 [==============================] - 0s 9ms/step - loss: 0.7824 - mae: 0.8844\n",
            "Epoch 42/50\n",
            "2/2 [==============================] - 0s 13ms/step - loss: 0.7791 - mae: 0.8825\n",
            "Epoch 43/50\n",
            "2/2 [==============================] - 0s 4ms/step - loss: 0.7756 - mae: 0.8806\n",
            "Epoch 44/50\n",
            "2/2 [==============================] - 0s 4ms/step - loss: 0.7723 - mae: 0.8787\n",
            "Epoch 45/50\n",
            "2/2 [==============================] - 0s 4ms/step - loss: 0.7688 - mae: 0.8767\n",
            "Epoch 46/50\n",
            "2/2 [==============================] - 0s 4ms/step - loss: 0.7656 - mae: 0.8749\n",
            "Epoch 47/50\n",
            "2/2 [==============================] - 0s 10ms/step - loss: 0.7616 - mae: 0.8726\n",
            "Epoch 48/50\n",
            "2/2 [==============================] - 0s 5ms/step - loss: 0.7580 - mae: 0.8705\n",
            "Epoch 49/50\n",
            "2/2 [==============================] - 0s 4ms/step - loss: 0.7548 - mae: 0.8686\n",
            "Epoch 50/50\n",
            "2/2 [==============================] - 0s 4ms/step - loss: 0.7510 - mae: 0.8665\n",
            "WARNING:tensorflow:5 out of the last 11 calls to <function Model.make_test_function.<locals>.test_function at 0x7f7e723b0830> triggered tf.function retracing. Tracing is expensive and the excessive number of tracings could be due to (1) creating @tf.function repeatedly in a loop, (2) passing tensors with different shapes, (3) passing Python objects instead of tensors. For (1), please define your @tf.function outside of the loop. For (2), @tf.function has experimental_relax_shapes=True option that relaxes argument shapes that can avoid unnecessary retracing. For (3), please refer to https://www.tensorflow.org/guide/function#controlling_retracing and https://www.tensorflow.org/api_docs/python/tf/function for  more details.\n",
            "2/2 [==============================] - 0s 8ms/step - loss: 0.7466 - mae: 0.8640\n"
          ],
          "name": "stdout"
        }
      ]
    },
    {
      "cell_type": "markdown",
      "metadata": {
        "id": "r4HP-zY6-S6n"
      },
      "source": [
        "#8.Evaluation Step"
      ]
    },
    {
      "cell_type": "code",
      "metadata": {
        "colab": {
          "base_uri": "https://localhost:8080/"
        },
        "id": "3P5e8bs8-THp",
        "outputId": "fd4190b7-ef0d-4596-da7d-7245739d059d"
      },
      "source": [
        "test_loss, test_acc = network.evaluate(x_test, y_test) \n",
        "print('test_acc:', test_acc)\n",
        "\n",
        "test_loss, test_acc = network1.evaluate(x_test, y_test) \n",
        "print('test_acc:', test_acc)"
      ],
      "execution_count": null,
      "outputs": [
        {
          "output_type": "stream",
          "text": [
            "2/2 [==============================] - 0s 6ms/step - loss: 0.0040 - mae: 0.0514\n",
            "test_acc: 0.05143294855952263\n",
            "2/2 [==============================] - 0s 6ms/step - loss: 0.7466 - mae: 0.8640\n",
            "test_acc: 0.8639904260635376\n"
          ],
          "name": "stdout"
        }
      ]
    },
    {
      "cell_type": "markdown",
      "metadata": {
        "id": "eev2al2n-TV_"
      },
      "source": [
        "#9.Prediction"
      ]
    },
    {
      "cell_type": "code",
      "metadata": {
        "id": "LK5nzKLB-ThJ",
        "colab": {
          "base_uri": "https://localhost:8080/"
        },
        "outputId": "d9cd4b70-cc13-4936-dd62-6270261d3871"
      },
      "source": [
        "network.predict(x_test)  #prediction is positive since the values are greater than 0.5"
      ],
      "execution_count": null,
      "outputs": [
        {
          "output_type": "execute_result",
          "data": {
            "text/plain": [
              "array([[0.87316436],\n",
              "       [0.9239668 ],\n",
              "       [0.9806058 ],\n",
              "       [0.9664839 ],\n",
              "       [0.8937696 ],\n",
              "       [0.9966082 ],\n",
              "       [1.0178065 ],\n",
              "       [0.97401655],\n",
              "       [0.97925854],\n",
              "       [1.0174999 ],\n",
              "       [0.9481023 ],\n",
              "       [1.0005347 ],\n",
              "       [0.9064319 ],\n",
              "       [0.9808021 ],\n",
              "       [0.8651565 ],\n",
              "       [1.03305   ],\n",
              "       [1.0230261 ],\n",
              "       [0.96476036],\n",
              "       [1.0180275 ],\n",
              "       [0.9757545 ],\n",
              "       [1.0114291 ],\n",
              "       [0.96773034],\n",
              "       [0.98422503],\n",
              "       [1.0015213 ],\n",
              "       [1.023497  ],\n",
              "       [0.8548484 ],\n",
              "       [0.99542654],\n",
              "       [0.96620053],\n",
              "       [0.9928457 ],\n",
              "       [0.9659952 ],\n",
              "       [0.89797086],\n",
              "       [1.037059  ],\n",
              "       [1.016057  ],\n",
              "       [0.90128183],\n",
              "       [1.0085665 ],\n",
              "       [0.88746524],\n",
              "       [0.9654635 ],\n",
              "       [0.9617509 ],\n",
              "       [0.96242446],\n",
              "       [0.94765514],\n",
              "       [1.0286155 ],\n",
              "       [0.90723073],\n",
              "       [0.9445832 ],\n",
              "       [1.0441408 ],\n",
              "       [0.99932766],\n",
              "       [0.9881231 ],\n",
              "       [1.037059  ],\n",
              "       [1.0245034 ],\n",
              "       [0.9402258 ],\n",
              "       [0.95925814],\n",
              "       [1.0253148 ],\n",
              "       [0.93134147],\n",
              "       [1.014659  ],\n",
              "       [0.9950775 ],\n",
              "       [1.0083718 ],\n",
              "       [0.9213354 ],\n",
              "       [1.0223403 ],\n",
              "       [0.94925463],\n",
              "       [0.8502733 ],\n",
              "       [1.0658623 ],\n",
              "       [0.992587  ],\n",
              "       [0.92931145]], dtype=float32)"
            ]
          },
          "metadata": {
            "tags": []
          },
          "execution_count": 28
        }
      ]
    },
    {
      "cell_type": "code",
      "metadata": {
        "id": "QuJsoV21-T5n",
        "colab": {
          "base_uri": "https://localhost:8080/"
        },
        "outputId": "ef6a5388-1119-4229-ff99-15ca98768d1c"
      },
      "source": [
        "network1.predict(x_test)"
      ],
      "execution_count": null,
      "outputs": [
        {
          "output_type": "execute_result",
          "data": {
            "text/plain": [
              "array([[0.10824907],\n",
              "       [0.10824907],\n",
              "       [0.10824907],\n",
              "       [0.10824907],\n",
              "       [0.10824907],\n",
              "       [0.10824907],\n",
              "       [0.10824907],\n",
              "       [0.10824907],\n",
              "       [0.10824907],\n",
              "       [0.10824907],\n",
              "       [0.10824907],\n",
              "       [0.10824907],\n",
              "       [0.10824907],\n",
              "       [0.10824907],\n",
              "       [0.10824907],\n",
              "       [0.10824907],\n",
              "       [0.10824907],\n",
              "       [0.10824907],\n",
              "       [0.10824907],\n",
              "       [0.10824907],\n",
              "       [0.10824907],\n",
              "       [0.10824907],\n",
              "       [0.10824907],\n",
              "       [0.10824907],\n",
              "       [0.10824907],\n",
              "       [0.10824907],\n",
              "       [0.10824907],\n",
              "       [0.10824907],\n",
              "       [0.10824907],\n",
              "       [0.10824907],\n",
              "       [0.10824907],\n",
              "       [0.10824907],\n",
              "       [0.10824907],\n",
              "       [0.10824907],\n",
              "       [0.10824907],\n",
              "       [0.10824907],\n",
              "       [0.10824907],\n",
              "       [0.10824907],\n",
              "       [0.10824907],\n",
              "       [0.10824907],\n",
              "       [0.10824907],\n",
              "       [0.10824907],\n",
              "       [0.10824907],\n",
              "       [0.10824907],\n",
              "       [0.10824907],\n",
              "       [0.10824907],\n",
              "       [0.10824907],\n",
              "       [0.10824907],\n",
              "       [0.10824907],\n",
              "       [0.10824907],\n",
              "       [0.10824907],\n",
              "       [0.10824907],\n",
              "       [0.10824907],\n",
              "       [0.10824907],\n",
              "       [0.10824907],\n",
              "       [0.10824907],\n",
              "       [0.10824907],\n",
              "       [0.10824907],\n",
              "       [0.10824907],\n",
              "       [0.10824907],\n",
              "       [0.10824907],\n",
              "       [0.10824907]], dtype=float32)"
            ]
          },
          "metadata": {
            "tags": []
          },
          "execution_count": 29
        }
      ]
    }
  ]
}