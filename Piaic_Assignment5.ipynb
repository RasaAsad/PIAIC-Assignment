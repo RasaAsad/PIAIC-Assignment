{
  "nbformat": 4,
  "nbformat_minor": 0,
  "metadata": {
    "colab": {
      "name": "Piaic Assignment5.ipynb",
      "provenance": [],
      "collapsed_sections": []
    },
    "kernelspec": {
      "name": "python3",
      "display_name": "Python 3"
    },
    "language_info": {
      "name": "python"
    }
  },
  "cells": [
    {
      "cell_type": "markdown",
      "metadata": {
        "id": "Ue9UC_aCAI7I"
      },
      "source": [
        "## **Assignment: Ionosphere Data Problem**\n",
        "\n",
        "Dataset Description:\n",
        "This radar data was collected by a system in Goose Bay, Labrador. This system consists of a phased array of 16 high-frequency antennas with a total transmitted power on the order of 6.4 kilowatts. See the paper for more details. The targets were free electrons in the ionosphere. \"Good\" radar returns are those showing evidence of some type of structure in the ionosphere. \"Bad\" returns are those that do not; their signals pass through the ionosphere.\n",
        "\n",
        "Received signals were processed using an autocorrelation function whose arguments are the time of a pulse and the pulse number. There were 17 pulse numbers for the Goose Bay system. Instances in this databse are described by 2 attributes per pulse number, corresponding to the complex values returned by the function resulting from the complex electromagnetic signal.\n",
        "\n",
        "\n"
      ]
    },
    {
      "cell_type": "code",
      "metadata": {
        "id": "tTMAwtGAJKf4"
      },
      "source": [
        "#Importing Libraries\n",
        "import numpy as np\n",
        "import pandas as pd\n",
        "import matplotlib.pyplot as plt"
      ],
      "execution_count": 586,
      "outputs": []
    },
    {
      "cell_type": "code",
      "metadata": {
        "id": "Tq7ifqHhJM4x"
      },
      "source": [
        "from keras.models import Sequential \n",
        "from keras.layers import Dense \n",
        "from keras.wrappers.scikit_learn import KerasClassifier \n",
        "from keras.utils import np_utils \n",
        "from sklearn.model_selection import cross_val_score \n",
        "from sklearn.model_selection import KFold \n",
        "from sklearn.preprocessing import LabelEncoder \n",
        "from sklearn.pipeline import Pipeline"
      ],
      "execution_count": 587,
      "outputs": []
    },
    {
      "cell_type": "code",
      "metadata": {
        "id": "UocEXrLgJkNM"
      },
      "source": [
        "from sklearn.model_selection import StratifiedKFold\n",
        "from sklearn.preprocessing import StandardScaler \n",
        "import math\n",
        "from keras.callbacks import LearningRateScheduler\n",
        "from keras.optimizers import SGD"
      ],
      "execution_count": 588,
      "outputs": []
    },
    {
      "cell_type": "markdown",
      "metadata": {
        "id": "Vp3zNH9iRvde"
      },
      "source": [
        "### Load Data"
      ]
    },
    {
      "cell_type": "code",
      "metadata": {
        "colab": {
          "base_uri": "https://localhost:8080/",
          "height": 379
        },
        "id": "jXZaHtmV8rOc",
        "outputId": "f06ed3bc-a098-4631-e84d-d96bc9742588"
      },
      "source": [
        "data = pd.read_csv(\"ionosphere_data.csv\")\n",
        "data.head(10)"
      ],
      "execution_count": 589,
      "outputs": [
        {
          "output_type": "execute_result",
          "data": {
            "text/html": [
              "<div>\n",
              "<style scoped>\n",
              "    .dataframe tbody tr th:only-of-type {\n",
              "        vertical-align: middle;\n",
              "    }\n",
              "\n",
              "    .dataframe tbody tr th {\n",
              "        vertical-align: top;\n",
              "    }\n",
              "\n",
              "    .dataframe thead th {\n",
              "        text-align: right;\n",
              "    }\n",
              "</style>\n",
              "<table border=\"1\" class=\"dataframe\">\n",
              "  <thead>\n",
              "    <tr style=\"text-align: right;\">\n",
              "      <th></th>\n",
              "      <th>feature1</th>\n",
              "      <th>feature2</th>\n",
              "      <th>feature3</th>\n",
              "      <th>feature4</th>\n",
              "      <th>feature5</th>\n",
              "      <th>feature6</th>\n",
              "      <th>feature7</th>\n",
              "      <th>feature8</th>\n",
              "      <th>feature9</th>\n",
              "      <th>feature10</th>\n",
              "      <th>feature11</th>\n",
              "      <th>feature12</th>\n",
              "      <th>feature13</th>\n",
              "      <th>feature14</th>\n",
              "      <th>feature15</th>\n",
              "      <th>feature16</th>\n",
              "      <th>feature17</th>\n",
              "      <th>feature18</th>\n",
              "      <th>feature19</th>\n",
              "      <th>feature20</th>\n",
              "      <th>feature21</th>\n",
              "      <th>feature22</th>\n",
              "      <th>feature23</th>\n",
              "      <th>feature24</th>\n",
              "      <th>feature25</th>\n",
              "      <th>feature26</th>\n",
              "      <th>feature27</th>\n",
              "      <th>feature28</th>\n",
              "      <th>feature29</th>\n",
              "      <th>feature30</th>\n",
              "      <th>feature31</th>\n",
              "      <th>feature32</th>\n",
              "      <th>feature33</th>\n",
              "      <th>feature34</th>\n",
              "      <th>label</th>\n",
              "    </tr>\n",
              "  </thead>\n",
              "  <tbody>\n",
              "    <tr>\n",
              "      <th>0</th>\n",
              "      <td>1</td>\n",
              "      <td>0</td>\n",
              "      <td>0.99539</td>\n",
              "      <td>-0.05889</td>\n",
              "      <td>0.85243</td>\n",
              "      <td>0.02306</td>\n",
              "      <td>0.83398</td>\n",
              "      <td>-0.37708</td>\n",
              "      <td>1.00000</td>\n",
              "      <td>0.03760</td>\n",
              "      <td>0.85243</td>\n",
              "      <td>-0.17755</td>\n",
              "      <td>0.59755</td>\n",
              "      <td>-0.44945</td>\n",
              "      <td>0.60536</td>\n",
              "      <td>-0.38223</td>\n",
              "      <td>0.84356</td>\n",
              "      <td>-0.38542</td>\n",
              "      <td>0.58212</td>\n",
              "      <td>-0.32192</td>\n",
              "      <td>0.56971</td>\n",
              "      <td>-0.29674</td>\n",
              "      <td>0.36946</td>\n",
              "      <td>-0.47357</td>\n",
              "      <td>0.56811</td>\n",
              "      <td>-0.51171</td>\n",
              "      <td>0.41078</td>\n",
              "      <td>-0.46168</td>\n",
              "      <td>0.21266</td>\n",
              "      <td>-0.34090</td>\n",
              "      <td>0.42267</td>\n",
              "      <td>-0.54487</td>\n",
              "      <td>0.18641</td>\n",
              "      <td>-0.45300</td>\n",
              "      <td>g</td>\n",
              "    </tr>\n",
              "    <tr>\n",
              "      <th>1</th>\n",
              "      <td>1</td>\n",
              "      <td>0</td>\n",
              "      <td>1.00000</td>\n",
              "      <td>-0.18829</td>\n",
              "      <td>0.93035</td>\n",
              "      <td>-0.36156</td>\n",
              "      <td>-0.10868</td>\n",
              "      <td>-0.93597</td>\n",
              "      <td>1.00000</td>\n",
              "      <td>-0.04549</td>\n",
              "      <td>0.50874</td>\n",
              "      <td>-0.67743</td>\n",
              "      <td>0.34432</td>\n",
              "      <td>-0.69707</td>\n",
              "      <td>-0.51685</td>\n",
              "      <td>-0.97515</td>\n",
              "      <td>0.05499</td>\n",
              "      <td>-0.62237</td>\n",
              "      <td>0.33109</td>\n",
              "      <td>-1.00000</td>\n",
              "      <td>-0.13151</td>\n",
              "      <td>-0.45300</td>\n",
              "      <td>-0.18056</td>\n",
              "      <td>-0.35734</td>\n",
              "      <td>-0.20332</td>\n",
              "      <td>-0.26569</td>\n",
              "      <td>-0.20468</td>\n",
              "      <td>-0.18401</td>\n",
              "      <td>-0.19040</td>\n",
              "      <td>-0.11593</td>\n",
              "      <td>-0.16626</td>\n",
              "      <td>-0.06288</td>\n",
              "      <td>-0.13738</td>\n",
              "      <td>-0.02447</td>\n",
              "      <td>b</td>\n",
              "    </tr>\n",
              "    <tr>\n",
              "      <th>2</th>\n",
              "      <td>1</td>\n",
              "      <td>0</td>\n",
              "      <td>1.00000</td>\n",
              "      <td>-0.03365</td>\n",
              "      <td>1.00000</td>\n",
              "      <td>0.00485</td>\n",
              "      <td>1.00000</td>\n",
              "      <td>-0.12062</td>\n",
              "      <td>0.88965</td>\n",
              "      <td>0.01198</td>\n",
              "      <td>0.73082</td>\n",
              "      <td>0.05346</td>\n",
              "      <td>0.85443</td>\n",
              "      <td>0.00827</td>\n",
              "      <td>0.54591</td>\n",
              "      <td>0.00299</td>\n",
              "      <td>0.83775</td>\n",
              "      <td>-0.13644</td>\n",
              "      <td>0.75535</td>\n",
              "      <td>-0.08540</td>\n",
              "      <td>0.70887</td>\n",
              "      <td>-0.27502</td>\n",
              "      <td>0.43385</td>\n",
              "      <td>-0.12062</td>\n",
              "      <td>0.57528</td>\n",
              "      <td>-0.40220</td>\n",
              "      <td>0.58984</td>\n",
              "      <td>-0.22145</td>\n",
              "      <td>0.43100</td>\n",
              "      <td>-0.17365</td>\n",
              "      <td>0.60436</td>\n",
              "      <td>-0.24180</td>\n",
              "      <td>0.56045</td>\n",
              "      <td>-0.38238</td>\n",
              "      <td>g</td>\n",
              "    </tr>\n",
              "    <tr>\n",
              "      <th>3</th>\n",
              "      <td>1</td>\n",
              "      <td>0</td>\n",
              "      <td>1.00000</td>\n",
              "      <td>-0.45161</td>\n",
              "      <td>1.00000</td>\n",
              "      <td>1.00000</td>\n",
              "      <td>0.71216</td>\n",
              "      <td>-1.00000</td>\n",
              "      <td>0.00000</td>\n",
              "      <td>0.00000</td>\n",
              "      <td>0.00000</td>\n",
              "      <td>0.00000</td>\n",
              "      <td>0.00000</td>\n",
              "      <td>0.00000</td>\n",
              "      <td>-1.00000</td>\n",
              "      <td>0.14516</td>\n",
              "      <td>0.54094</td>\n",
              "      <td>-0.39330</td>\n",
              "      <td>-1.00000</td>\n",
              "      <td>-0.54467</td>\n",
              "      <td>-0.69975</td>\n",
              "      <td>1.00000</td>\n",
              "      <td>0.00000</td>\n",
              "      <td>0.00000</td>\n",
              "      <td>1.00000</td>\n",
              "      <td>0.90695</td>\n",
              "      <td>0.51613</td>\n",
              "      <td>1.00000</td>\n",
              "      <td>1.00000</td>\n",
              "      <td>-0.20099</td>\n",
              "      <td>0.25682</td>\n",
              "      <td>1.00000</td>\n",
              "      <td>-0.32382</td>\n",
              "      <td>1.00000</td>\n",
              "      <td>b</td>\n",
              "    </tr>\n",
              "    <tr>\n",
              "      <th>4</th>\n",
              "      <td>1</td>\n",
              "      <td>0</td>\n",
              "      <td>1.00000</td>\n",
              "      <td>-0.02401</td>\n",
              "      <td>0.94140</td>\n",
              "      <td>0.06531</td>\n",
              "      <td>0.92106</td>\n",
              "      <td>-0.23255</td>\n",
              "      <td>0.77152</td>\n",
              "      <td>-0.16399</td>\n",
              "      <td>0.52798</td>\n",
              "      <td>-0.20275</td>\n",
              "      <td>0.56409</td>\n",
              "      <td>-0.00712</td>\n",
              "      <td>0.34395</td>\n",
              "      <td>-0.27457</td>\n",
              "      <td>0.52940</td>\n",
              "      <td>-0.21780</td>\n",
              "      <td>0.45107</td>\n",
              "      <td>-0.17813</td>\n",
              "      <td>0.05982</td>\n",
              "      <td>-0.35575</td>\n",
              "      <td>0.02309</td>\n",
              "      <td>-0.52879</td>\n",
              "      <td>0.03286</td>\n",
              "      <td>-0.65158</td>\n",
              "      <td>0.13290</td>\n",
              "      <td>-0.53206</td>\n",
              "      <td>0.02431</td>\n",
              "      <td>-0.62197</td>\n",
              "      <td>-0.05707</td>\n",
              "      <td>-0.59573</td>\n",
              "      <td>-0.04608</td>\n",
              "      <td>-0.65697</td>\n",
              "      <td>g</td>\n",
              "    </tr>\n",
              "    <tr>\n",
              "      <th>5</th>\n",
              "      <td>1</td>\n",
              "      <td>0</td>\n",
              "      <td>0.02337</td>\n",
              "      <td>-0.00592</td>\n",
              "      <td>-0.09924</td>\n",
              "      <td>-0.11949</td>\n",
              "      <td>-0.00763</td>\n",
              "      <td>-0.11824</td>\n",
              "      <td>0.14706</td>\n",
              "      <td>0.06637</td>\n",
              "      <td>0.03786</td>\n",
              "      <td>-0.06302</td>\n",
              "      <td>0.00000</td>\n",
              "      <td>0.00000</td>\n",
              "      <td>-0.04572</td>\n",
              "      <td>-0.15540</td>\n",
              "      <td>-0.00343</td>\n",
              "      <td>-0.10196</td>\n",
              "      <td>-0.11575</td>\n",
              "      <td>-0.05414</td>\n",
              "      <td>0.01838</td>\n",
              "      <td>0.03669</td>\n",
              "      <td>0.01519</td>\n",
              "      <td>0.00888</td>\n",
              "      <td>0.03513</td>\n",
              "      <td>-0.01535</td>\n",
              "      <td>-0.03240</td>\n",
              "      <td>0.09223</td>\n",
              "      <td>-0.07859</td>\n",
              "      <td>0.00732</td>\n",
              "      <td>0.00000</td>\n",
              "      <td>0.00000</td>\n",
              "      <td>-0.00039</td>\n",
              "      <td>0.12011</td>\n",
              "      <td>b</td>\n",
              "    </tr>\n",
              "    <tr>\n",
              "      <th>6</th>\n",
              "      <td>1</td>\n",
              "      <td>0</td>\n",
              "      <td>0.97588</td>\n",
              "      <td>-0.10602</td>\n",
              "      <td>0.94601</td>\n",
              "      <td>-0.20800</td>\n",
              "      <td>0.92806</td>\n",
              "      <td>-0.28350</td>\n",
              "      <td>0.85996</td>\n",
              "      <td>-0.27342</td>\n",
              "      <td>0.79766</td>\n",
              "      <td>-0.47929</td>\n",
              "      <td>0.78225</td>\n",
              "      <td>-0.50764</td>\n",
              "      <td>0.74628</td>\n",
              "      <td>-0.61436</td>\n",
              "      <td>0.57945</td>\n",
              "      <td>-0.68086</td>\n",
              "      <td>0.37852</td>\n",
              "      <td>-0.73641</td>\n",
              "      <td>0.36324</td>\n",
              "      <td>-0.76562</td>\n",
              "      <td>0.31898</td>\n",
              "      <td>-0.79753</td>\n",
              "      <td>0.22792</td>\n",
              "      <td>-0.81634</td>\n",
              "      <td>0.13659</td>\n",
              "      <td>-0.82510</td>\n",
              "      <td>0.04606</td>\n",
              "      <td>-0.82395</td>\n",
              "      <td>-0.04262</td>\n",
              "      <td>-0.81318</td>\n",
              "      <td>-0.13832</td>\n",
              "      <td>-0.80975</td>\n",
              "      <td>g</td>\n",
              "    </tr>\n",
              "    <tr>\n",
              "      <th>7</th>\n",
              "      <td>0</td>\n",
              "      <td>0</td>\n",
              "      <td>0.00000</td>\n",
              "      <td>0.00000</td>\n",
              "      <td>0.00000</td>\n",
              "      <td>0.00000</td>\n",
              "      <td>1.00000</td>\n",
              "      <td>-1.00000</td>\n",
              "      <td>0.00000</td>\n",
              "      <td>0.00000</td>\n",
              "      <td>-1.00000</td>\n",
              "      <td>-1.00000</td>\n",
              "      <td>0.00000</td>\n",
              "      <td>0.00000</td>\n",
              "      <td>0.00000</td>\n",
              "      <td>0.00000</td>\n",
              "      <td>1.00000</td>\n",
              "      <td>1.00000</td>\n",
              "      <td>-1.00000</td>\n",
              "      <td>-1.00000</td>\n",
              "      <td>0.00000</td>\n",
              "      <td>0.00000</td>\n",
              "      <td>0.00000</td>\n",
              "      <td>0.00000</td>\n",
              "      <td>1.00000</td>\n",
              "      <td>1.00000</td>\n",
              "      <td>1.00000</td>\n",
              "      <td>1.00000</td>\n",
              "      <td>0.00000</td>\n",
              "      <td>0.00000</td>\n",
              "      <td>1.00000</td>\n",
              "      <td>1.00000</td>\n",
              "      <td>0.00000</td>\n",
              "      <td>0.00000</td>\n",
              "      <td>b</td>\n",
              "    </tr>\n",
              "    <tr>\n",
              "      <th>8</th>\n",
              "      <td>1</td>\n",
              "      <td>0</td>\n",
              "      <td>0.96355</td>\n",
              "      <td>-0.07198</td>\n",
              "      <td>1.00000</td>\n",
              "      <td>-0.14333</td>\n",
              "      <td>1.00000</td>\n",
              "      <td>-0.21313</td>\n",
              "      <td>1.00000</td>\n",
              "      <td>-0.36174</td>\n",
              "      <td>0.92570</td>\n",
              "      <td>-0.43569</td>\n",
              "      <td>0.94510</td>\n",
              "      <td>-0.40668</td>\n",
              "      <td>0.90392</td>\n",
              "      <td>-0.46381</td>\n",
              "      <td>0.98305</td>\n",
              "      <td>-0.35257</td>\n",
              "      <td>0.84537</td>\n",
              "      <td>-0.66020</td>\n",
              "      <td>0.75346</td>\n",
              "      <td>-0.60589</td>\n",
              "      <td>0.69637</td>\n",
              "      <td>-0.64225</td>\n",
              "      <td>0.85106</td>\n",
              "      <td>-0.65440</td>\n",
              "      <td>0.57577</td>\n",
              "      <td>-0.69712</td>\n",
              "      <td>0.25435</td>\n",
              "      <td>-0.63919</td>\n",
              "      <td>0.45114</td>\n",
              "      <td>-0.72779</td>\n",
              "      <td>0.38895</td>\n",
              "      <td>-0.73420</td>\n",
              "      <td>g</td>\n",
              "    </tr>\n",
              "    <tr>\n",
              "      <th>9</th>\n",
              "      <td>1</td>\n",
              "      <td>0</td>\n",
              "      <td>-0.01864</td>\n",
              "      <td>-0.08459</td>\n",
              "      <td>0.00000</td>\n",
              "      <td>0.00000</td>\n",
              "      <td>0.00000</td>\n",
              "      <td>0.00000</td>\n",
              "      <td>0.11470</td>\n",
              "      <td>-0.26810</td>\n",
              "      <td>-0.45663</td>\n",
              "      <td>-0.38172</td>\n",
              "      <td>0.00000</td>\n",
              "      <td>0.00000</td>\n",
              "      <td>-0.33656</td>\n",
              "      <td>0.38602</td>\n",
              "      <td>-0.37133</td>\n",
              "      <td>0.15018</td>\n",
              "      <td>0.63728</td>\n",
              "      <td>0.22115</td>\n",
              "      <td>0.00000</td>\n",
              "      <td>0.00000</td>\n",
              "      <td>0.00000</td>\n",
              "      <td>0.00000</td>\n",
              "      <td>-0.14803</td>\n",
              "      <td>-0.01326</td>\n",
              "      <td>0.20645</td>\n",
              "      <td>-0.02294</td>\n",
              "      <td>0.00000</td>\n",
              "      <td>0.00000</td>\n",
              "      <td>0.16595</td>\n",
              "      <td>0.24086</td>\n",
              "      <td>-0.08208</td>\n",
              "      <td>0.38065</td>\n",
              "      <td>b</td>\n",
              "    </tr>\n",
              "  </tbody>\n",
              "</table>\n",
              "</div>"
            ],
            "text/plain": [
              "   feature1  feature2  feature3  ...  feature33  feature34  label\n",
              "0         1         0   0.99539  ...    0.18641   -0.45300      g\n",
              "1         1         0   1.00000  ...   -0.13738   -0.02447      b\n",
              "2         1         0   1.00000  ...    0.56045   -0.38238      g\n",
              "3         1         0   1.00000  ...   -0.32382    1.00000      b\n",
              "4         1         0   1.00000  ...   -0.04608   -0.65697      g\n",
              "5         1         0   0.02337  ...   -0.00039    0.12011      b\n",
              "6         1         0   0.97588  ...   -0.13832   -0.80975      g\n",
              "7         0         0   0.00000  ...    0.00000    0.00000      b\n",
              "8         1         0   0.96355  ...    0.38895   -0.73420      g\n",
              "9         1         0  -0.01864  ...   -0.08208    0.38065      b\n",
              "\n",
              "[10 rows x 35 columns]"
            ]
          },
          "metadata": {
            "tags": []
          },
          "execution_count": 589
        }
      ]
    },
    {
      "cell_type": "code",
      "metadata": {
        "colab": {
          "base_uri": "https://localhost:8080/"
        },
        "id": "cSfavFZ6JpzE",
        "outputId": "e8785d1d-98df-4a77-bdb8-18c0a6b94b81"
      },
      "source": [
        "data.shape"
      ],
      "execution_count": 590,
      "outputs": [
        {
          "output_type": "execute_result",
          "data": {
            "text/plain": [
              "(351, 35)"
            ]
          },
          "metadata": {
            "tags": []
          },
          "execution_count": 590
        }
      ]
    },
    {
      "cell_type": "markdown",
      "metadata": {
        "id": "mZTPZzK1R9sn"
      },
      "source": [
        "### Check Missing Values ( If Exist ; Fill each record with mean of its feature )"
      ]
    },
    {
      "cell_type": "code",
      "metadata": {
        "colab": {
          "base_uri": "https://localhost:8080/"
        },
        "id": "ZaJG3fuDLkNv",
        "outputId": "de34a804-83f1-461e-c401-362582d433dd"
      },
      "source": [
        "#no null values exist in the data. \n",
        "data.isnull().sum() "
      ],
      "execution_count": 591,
      "outputs": [
        {
          "output_type": "execute_result",
          "data": {
            "text/plain": [
              "feature1     0\n",
              "feature2     0\n",
              "feature3     0\n",
              "feature4     0\n",
              "feature5     0\n",
              "feature6     0\n",
              "feature7     0\n",
              "feature8     0\n",
              "feature9     0\n",
              "feature10    0\n",
              "feature11    0\n",
              "feature12    0\n",
              "feature13    0\n",
              "feature14    0\n",
              "feature15    0\n",
              "feature16    0\n",
              "feature17    0\n",
              "feature18    0\n",
              "feature19    0\n",
              "feature20    0\n",
              "feature21    0\n",
              "feature22    0\n",
              "feature23    0\n",
              "feature24    0\n",
              "feature25    0\n",
              "feature26    0\n",
              "feature27    0\n",
              "feature28    0\n",
              "feature29    0\n",
              "feature30    0\n",
              "feature31    0\n",
              "feature32    0\n",
              "feature33    0\n",
              "feature34    0\n",
              "label        0\n",
              "dtype: int64"
            ]
          },
          "metadata": {
            "tags": []
          },
          "execution_count": 591
        }
      ]
    },
    {
      "cell_type": "markdown",
      "metadata": {
        "id": "9yv4BHR9SdfO"
      },
      "source": [
        "### Standardized the Input Variables. Hint: Centeralized the data\n"
      ]
    },
    {
      "cell_type": "code",
      "metadata": {
        "colab": {
          "base_uri": "https://localhost:8080/"
        },
        "id": "B6CrsWQryq_F",
        "outputId": "96e5f8d7-4810-4332-c217-c8f243563022"
      },
      "source": [
        "data.info()"
      ],
      "execution_count": 592,
      "outputs": [
        {
          "output_type": "stream",
          "text": [
            "<class 'pandas.core.frame.DataFrame'>\n",
            "RangeIndex: 351 entries, 0 to 350\n",
            "Data columns (total 35 columns):\n",
            " #   Column     Non-Null Count  Dtype  \n",
            "---  ------     --------------  -----  \n",
            " 0   feature1   351 non-null    int64  \n",
            " 1   feature2   351 non-null    int64  \n",
            " 2   feature3   351 non-null    float64\n",
            " 3   feature4   351 non-null    float64\n",
            " 4   feature5   351 non-null    float64\n",
            " 5   feature6   351 non-null    float64\n",
            " 6   feature7   351 non-null    float64\n",
            " 7   feature8   351 non-null    float64\n",
            " 8   feature9   351 non-null    float64\n",
            " 9   feature10  351 non-null    float64\n",
            " 10  feature11  351 non-null    float64\n",
            " 11  feature12  351 non-null    float64\n",
            " 12  feature13  351 non-null    float64\n",
            " 13  feature14  351 non-null    float64\n",
            " 14  feature15  351 non-null    float64\n",
            " 15  feature16  351 non-null    float64\n",
            " 16  feature17  351 non-null    float64\n",
            " 17  feature18  351 non-null    float64\n",
            " 18  feature19  351 non-null    float64\n",
            " 19  feature20  351 non-null    float64\n",
            " 20  feature21  351 non-null    float64\n",
            " 21  feature22  351 non-null    float64\n",
            " 22  feature23  351 non-null    float64\n",
            " 23  feature24  351 non-null    float64\n",
            " 24  feature25  351 non-null    float64\n",
            " 25  feature26  351 non-null    float64\n",
            " 26  feature27  351 non-null    float64\n",
            " 27  feature28  351 non-null    float64\n",
            " 28  feature29  351 non-null    float64\n",
            " 29  feature30  351 non-null    float64\n",
            " 30  feature31  351 non-null    float64\n",
            " 31  feature32  351 non-null    float64\n",
            " 32  feature33  351 non-null    float64\n",
            " 33  feature34  351 non-null    float64\n",
            " 34  label      351 non-null    object \n",
            "dtypes: float64(32), int64(2), object(1)\n",
            "memory usage: 96.1+ KB\n"
          ],
          "name": "stdout"
        }
      ]
    },
    {
      "cell_type": "code",
      "metadata": {
        "colab": {
          "base_uri": "https://localhost:8080/"
        },
        "id": "bt6q1dZ164Ks",
        "outputId": "102441f0-3ee5-42c2-e509-0b6b1df5d839"
      },
      "source": [
        "#Splitting numeric float values for standadization\n",
        "x = data.iloc[:,:-1].values\n",
        "x"
      ],
      "execution_count": 593,
      "outputs": [
        {
          "output_type": "execute_result",
          "data": {
            "text/plain": [
              "array([[ 1.     ,  0.     ,  0.99539, ..., -0.54487,  0.18641, -0.453  ],\n",
              "       [ 1.     ,  0.     ,  1.     , ..., -0.06288, -0.13738, -0.02447],\n",
              "       [ 1.     ,  0.     ,  1.     , ..., -0.2418 ,  0.56045, -0.38238],\n",
              "       ...,\n",
              "       [ 1.     ,  0.     ,  0.94701, ...,  0.00442,  0.92697, -0.00577],\n",
              "       [ 1.     ,  0.     ,  0.90608, ..., -0.03757,  0.87403, -0.16243],\n",
              "       [ 1.     ,  0.     ,  0.8471 , ..., -0.06678,  0.85764, -0.06151]])"
            ]
          },
          "metadata": {
            "tags": []
          },
          "execution_count": 593
        }
      ]
    },
    {
      "cell_type": "code",
      "metadata": {
        "colab": {
          "base_uri": "https://localhost:8080/"
        },
        "id": "zT-tSGh670dc",
        "outputId": "88e1bba2-7e1b-4801-95b7-e1016e6152c3"
      },
      "source": [
        "x.shape"
      ],
      "execution_count": 594,
      "outputs": [
        {
          "output_type": "execute_result",
          "data": {
            "text/plain": [
              "(351, 34)"
            ]
          },
          "metadata": {
            "tags": []
          },
          "execution_count": 594
        }
      ]
    },
    {
      "cell_type": "code",
      "metadata": {
        "colab": {
          "base_uri": "https://localhost:8080/"
        },
        "id": "SNj8BirI8AVq",
        "outputId": "3d7cb750-d87d-4f2d-c0f9-cbc6245ad4eb"
      },
      "source": [
        "from numpy import asarray\n",
        "from sklearn.preprocessing import StandardScaler\n",
        "# define standard scaler\n",
        "scaler = StandardScaler()\n",
        "# transform data\n",
        "X = scaler.fit_transform(x)\n",
        "print(scaled)"
      ],
      "execution_count": 595,
      "outputs": [
        {
          "output_type": "stream",
          "text": [
            "[[ 0.34843328  0.          0.71237237 ... -1.05505394 -0.3122206\n",
            "  -0.99959483]\n",
            " [ 0.34843328  0.          0.72164805 ... -0.11521328 -0.93260505\n",
            "  -0.08328554]\n",
            " [ 0.34843328  0.          0.72164805 ... -0.46409249  0.40444328\n",
            "  -0.84859079]\n",
            " ...\n",
            " [ 0.34843328  0.          0.61502805 ...  0.01601615  1.10669878\n",
            "  -0.04330004]\n",
            " [ 0.34843328  0.          0.53267371 ... -0.06586087  1.00526528\n",
            "  -0.37828012]\n",
            " [ 0.34843328  0.          0.41400137 ... -0.12281796  0.9738619\n",
            "  -0.16248675]]\n"
          ],
          "name": "stdout"
        }
      ]
    },
    {
      "cell_type": "markdown",
      "metadata": {
        "id": "6NKPRMeW9Dxg"
      },
      "source": [
        "### Encoding Label feature"
      ]
    },
    {
      "cell_type": "code",
      "metadata": {
        "colab": {
          "base_uri": "https://localhost:8080/"
        },
        "id": "eXOTplnM7GZz",
        "outputId": "7589624b-9970-42e0-b913-3fbeb624e950"
      },
      "source": [
        "#Splitting categorical values for encoding\n",
        "y = data.iloc[:,-1].values\n",
        "y"
      ],
      "execution_count": 596,
      "outputs": [
        {
          "output_type": "execute_result",
          "data": {
            "text/plain": [
              "array(['g', 'b', 'g', 'b', 'g', 'b', 'g', 'b', 'g', 'b', 'g', 'b', 'g',\n",
              "       'b', 'g', 'b', 'g', 'b', 'g', 'b', 'g', 'b', 'g', 'b', 'g', 'b',\n",
              "       'g', 'b', 'g', 'b', 'g', 'b', 'g', 'b', 'g', 'b', 'g', 'b', 'g',\n",
              "       'b', 'g', 'b', 'g', 'b', 'g', 'b', 'g', 'b', 'g', 'b', 'g', 'b',\n",
              "       'g', 'b', 'g', 'b', 'g', 'b', 'g', 'b', 'g', 'b', 'g', 'b', 'g',\n",
              "       'b', 'g', 'b', 'g', 'b', 'g', 'b', 'g', 'b', 'g', 'b', 'g', 'b',\n",
              "       'g', 'b', 'g', 'b', 'g', 'b', 'g', 'b', 'g', 'b', 'g', 'b', 'g',\n",
              "       'b', 'g', 'b', 'g', 'b', 'g', 'g', 'b', 'g', 'b', 'g', 'b', 'g',\n",
              "       'b', 'g', 'b', 'g', 'b', 'g', 'b', 'g', 'b', 'g', 'b', 'g', 'b',\n",
              "       'g', 'b', 'g', 'b', 'g', 'b', 'g', 'b', 'g', 'b', 'g', 'b', 'g',\n",
              "       'b', 'g', 'b', 'g', 'b', 'g', 'b', 'g', 'b', 'g', 'b', 'g', 'b',\n",
              "       'g', 'b', 'g', 'b', 'g', 'b', 'g', 'b', 'g', 'b', 'g', 'b', 'g',\n",
              "       'b', 'g', 'b', 'g', 'b', 'g', 'b', 'g', 'b', 'g', 'b', 'g', 'b',\n",
              "       'g', 'b', 'g', 'b', 'g', 'b', 'g', 'b', 'g', 'b', 'g', 'b', 'g',\n",
              "       'b', 'g', 'b', 'g', 'b', 'g', 'b', 'g', 'b', 'g', 'b', 'g', 'b',\n",
              "       'g', 'b', 'g', 'b', 'g', 'b', 'g', 'b', 'g', 'b', 'g', 'b', 'g',\n",
              "       'b', 'g', 'b', 'g', 'b', 'g', 'b', 'g', 'b', 'g', 'b', 'g', 'b',\n",
              "       'g', 'b', 'g', 'b', 'g', 'b', 'g', 'b', 'g', 'b', 'g', 'b', 'g',\n",
              "       'b', 'g', 'b', 'g', 'b', 'g', 'b', 'g', 'b', 'g', 'b', 'g', 'b',\n",
              "       'g', 'b', 'g', 'b', 'g', 'b', 'g', 'g', 'g', 'g', 'g', 'g', 'g',\n",
              "       'g', 'g', 'g', 'g', 'g', 'g', 'g', 'g', 'g', 'g', 'g', 'g', 'g',\n",
              "       'g', 'g', 'g', 'g', 'g', 'g', 'g', 'g', 'g', 'g', 'g', 'g', 'g',\n",
              "       'g', 'g', 'g', 'g', 'g', 'g', 'g', 'g', 'g', 'g', 'g', 'g', 'g',\n",
              "       'g', 'g', 'g', 'g', 'g', 'g', 'g', 'g', 'g', 'g', 'g', 'g', 'g',\n",
              "       'g', 'g', 'g', 'g', 'g', 'g', 'g', 'g', 'g', 'g', 'g', 'g', 'g',\n",
              "       'g', 'g', 'g', 'g', 'g', 'g', 'g', 'g', 'g', 'g', 'g', 'g', 'g',\n",
              "       'g', 'g', 'g', 'g', 'g', 'g', 'g', 'g', 'g', 'g', 'g', 'g', 'g'],\n",
              "      dtype=object)"
            ]
          },
          "metadata": {
            "tags": []
          },
          "execution_count": 596
        }
      ]
    },
    {
      "cell_type": "code",
      "metadata": {
        "colab": {
          "base_uri": "https://localhost:8080/"
        },
        "id": "2n7GjCLF73n7",
        "outputId": "afcfc9ee-39b9-4918-efc7-711490bd109c"
      },
      "source": [
        "y.shape"
      ],
      "execution_count": 597,
      "outputs": [
        {
          "output_type": "execute_result",
          "data": {
            "text/plain": [
              "(351,)"
            ]
          },
          "metadata": {
            "tags": []
          },
          "execution_count": 597
        }
      ]
    },
    {
      "cell_type": "code",
      "metadata": {
        "id": "CR_WqNAV5oKC"
      },
      "source": [
        "encoder = LabelEncoder() \n",
        "encoder.fit(y) \n",
        "Y = encoder.transform(y)"
      ],
      "execution_count": 598,
      "outputs": []
    },
    {
      "cell_type": "markdown",
      "metadata": {
        "id": "ZjTJxz1dLlNq"
      },
      "source": [
        "### Split into 60 and 40 ratio."
      ]
    },
    {
      "cell_type": "code",
      "metadata": {
        "colab": {
          "base_uri": "https://localhost:8080/"
        },
        "id": "QvQK_6qmLmJP",
        "outputId": "755d7b2c-4e61-41a4-b72d-ed2e4415b803"
      },
      "source": [
        "from sklearn.model_selection import train_test_split\n",
        "x_train,x_test,y_train,y_test = train_test_split(X,Y,test_size = 0.40,random_state=42)\n",
        "print(x_train.shape,y_train.shape)\n",
        "print(x_test.shape,y_test.shape)"
      ],
      "execution_count": 599,
      "outputs": [
        {
          "output_type": "stream",
          "text": [
            "(210, 34) (210,)\n",
            "(141, 34) (141,)\n"
          ],
          "name": "stdout"
        }
      ]
    },
    {
      "cell_type": "markdown",
      "metadata": {
        "id": "TTbRrcWJERqs"
      },
      "source": [
        "### Model : 1 hidden layers including 16 unit.\n"
      ]
    },
    {
      "cell_type": "code",
      "metadata": {
        "id": "_418Vk6JADMc"
      },
      "source": [
        "from tensorflow.keras import models\n",
        "from tensorflow.keras import layers\n",
        "\n",
        "model = models.Sequential()\n",
        "model.add(layers.Dense(4, activation='relu'))\n",
        "model.add(layers.Dense(1))"
      ],
      "execution_count": 600,
      "outputs": []
    },
    {
      "cell_type": "markdown",
      "metadata": {
        "id": "SsiorIjVM-kP"
      },
      "source": [
        "### Compilation Step (Note : Its a Binary problem , select loss , metrics according to it)"
      ]
    },
    {
      "cell_type": "code",
      "metadata": {
        "id": "L3tEVrmpM_D1"
      },
      "source": [
        "# Compile model\n",
        "     \n",
        "learning_rate = 0.1 \n",
        "decay_rate = learning_rate / epochs \n",
        "momentum = 0.8 \n",
        "sgd = SGD(lr=learning_rate, momentum=momentum, decay=decay_rate, nesterov=False)\n",
        "model.compile(loss= \"binary_crossentropy\" , optimizer=sgd, metrics=[ \"accuracy\" ]) "
      ],
      "execution_count": 601,
      "outputs": []
    },
    {
      "cell_type": "markdown",
      "metadata": {
        "id": "oaSXxPkhNYMg"
      },
      "source": [
        "### Train the Model with Epochs (100).\n"
      ]
    },
    {
      "cell_type": "code",
      "metadata": {
        "colab": {
          "base_uri": "https://localhost:8080/"
        },
        "id": "v_vTz3w-0FoX",
        "outputId": "491a2e7f-d4f7-4554-a4e8-afab95b1096c"
      },
      "source": [
        "epochs = 100 \n",
        "model.fit(x_train, y_train, epochs=epochs, batch_size=64)"
      ],
      "execution_count": 602,
      "outputs": [
        {
          "output_type": "stream",
          "text": [
            "Epoch 1/100\n",
            "4/4 [==============================] - 0s 3ms/step - loss: 7.7373 - accuracy: 0.3981\n",
            "Epoch 2/100\n",
            "4/4 [==============================] - 0s 4ms/step - loss: 5.2135 - accuracy: 0.6283\n",
            "Epoch 3/100\n",
            "4/4 [==============================] - 0s 3ms/step - loss: 4.0784 - accuracy: 0.7056\n",
            "Epoch 4/100\n",
            "4/4 [==============================] - 0s 3ms/step - loss: 3.3123 - accuracy: 0.7816\n",
            "Epoch 5/100\n",
            "4/4 [==============================] - 0s 4ms/step - loss: 3.1054 - accuracy: 0.7938\n",
            "Epoch 6/100\n",
            "4/4 [==============================] - 0s 4ms/step - loss: 2.9492 - accuracy: 0.7972\n",
            "Epoch 7/100\n",
            "4/4 [==============================] - 0s 2ms/step - loss: 2.5234 - accuracy: 0.8286\n",
            "Epoch 8/100\n",
            "4/4 [==============================] - 0s 3ms/step - loss: 2.3756 - accuracy: 0.8449\n",
            "Epoch 9/100\n",
            "4/4 [==============================] - 0s 4ms/step - loss: 2.1789 - accuracy: 0.8576\n",
            "Epoch 10/100\n",
            "4/4 [==============================] - 0s 3ms/step - loss: 2.0905 - accuracy: 0.8633\n",
            "Epoch 11/100\n",
            "4/4 [==============================] - 0s 2ms/step - loss: 2.4900 - accuracy: 0.8373\n",
            "Epoch 12/100\n",
            "4/4 [==============================] - 0s 3ms/step - loss: 2.2014 - accuracy: 0.8561\n",
            "Epoch 13/100\n",
            "4/4 [==============================] - 0s 3ms/step - loss: 2.1063 - accuracy: 0.8623\n",
            "Epoch 14/100\n",
            "4/4 [==============================] - 0s 3ms/step - loss: 2.2031 - accuracy: 0.8561\n",
            "Epoch 15/100\n",
            "4/4 [==============================] - 0s 2ms/step - loss: 2.0204 - accuracy: 0.8680\n",
            "Epoch 16/100\n",
            "4/4 [==============================] - 0s 4ms/step - loss: 2.7026 - accuracy: 0.8232\n",
            "Epoch 17/100\n",
            "4/4 [==============================] - 0s 4ms/step - loss: 2.1143 - accuracy: 0.8618\n",
            "Epoch 18/100\n",
            "4/4 [==============================] - 0s 5ms/step - loss: 2.2353 - accuracy: 0.8540\n",
            "Epoch 19/100\n",
            "4/4 [==============================] - 0s 3ms/step - loss: 2.4498 - accuracy: 0.8399\n",
            "Epoch 20/100\n",
            "4/4 [==============================] - 0s 3ms/step - loss: 2.2756 - accuracy: 0.8514\n",
            "Epoch 21/100\n",
            "4/4 [==============================] - 0s 3ms/step - loss: 2.0656 - accuracy: 0.8649\n",
            "Epoch 22/100\n",
            "4/4 [==============================] - 0s 5ms/step - loss: 2.3144 - accuracy: 0.8488\n",
            "Epoch 23/100\n",
            "4/4 [==============================] - 0s 2ms/step - loss: 1.9623 - accuracy: 0.8717\n",
            "Epoch 24/100\n",
            "4/4 [==============================] - 0s 3ms/step - loss: 2.2169 - accuracy: 0.8550\n",
            "Epoch 25/100\n",
            "4/4 [==============================] - 0s 3ms/step - loss: 2.3697 - accuracy: 0.8451\n",
            "Epoch 26/100\n",
            "4/4 [==============================] - 0s 5ms/step - loss: 2.4815 - accuracy: 0.8378\n",
            "Epoch 27/100\n",
            "4/4 [==============================] - 0s 5ms/step - loss: 2.2906 - accuracy: 0.8503\n",
            "Epoch 28/100\n",
            "4/4 [==============================] - 0s 5ms/step - loss: 2.1871 - accuracy: 0.8571\n",
            "Epoch 29/100\n",
            "4/4 [==============================] - 0s 3ms/step - loss: 2.1712 - accuracy: 0.8581\n",
            "Epoch 30/100\n",
            "4/4 [==============================] - 0s 3ms/step - loss: 2.3062 - accuracy: 0.8493\n",
            "Epoch 31/100\n",
            "4/4 [==============================] - 0s 3ms/step - loss: 2.1865 - accuracy: 0.8571\n",
            "Epoch 32/100\n",
            "4/4 [==============================] - 0s 3ms/step - loss: 2.7209 - accuracy: 0.8222\n",
            "Epoch 33/100\n",
            "4/4 [==============================] - 0s 4ms/step - loss: 2.2660 - accuracy: 0.8519\n",
            "Epoch 34/100\n",
            "4/4 [==============================] - 0s 3ms/step - loss: 2.3701 - accuracy: 0.8451\n",
            "Epoch 35/100\n",
            "4/4 [==============================] - 0s 5ms/step - loss: 2.2432 - accuracy: 0.8535\n",
            "Epoch 36/100\n",
            "4/4 [==============================] - 0s 3ms/step - loss: 2.0984 - accuracy: 0.8628\n",
            "Epoch 37/100\n",
            "4/4 [==============================] - 0s 3ms/step - loss: 2.7273 - accuracy: 0.8217\n",
            "Epoch 38/100\n",
            "4/4 [==============================] - 0s 6ms/step - loss: 2.2202 - accuracy: 0.8550\n",
            "Epoch 39/100\n",
            "4/4 [==============================] - 0s 4ms/step - loss: 2.2187 - accuracy: 0.8550\n",
            "Epoch 40/100\n",
            "4/4 [==============================] - 0s 4ms/step - loss: 2.1865 - accuracy: 0.8571\n",
            "Epoch 41/100\n",
            "4/4 [==============================] - 0s 4ms/step - loss: 2.3717 - accuracy: 0.8451\n",
            "Epoch 42/100\n",
            "4/4 [==============================] - 0s 4ms/step - loss: 2.3384 - accuracy: 0.8472\n",
            "Epoch 43/100\n",
            "4/4 [==============================] - 0s 2ms/step - loss: 2.2745 - accuracy: 0.8514\n",
            "Epoch 44/100\n",
            "4/4 [==============================] - 0s 3ms/step - loss: 2.3457 - accuracy: 0.8467\n",
            "Epoch 45/100\n",
            "4/4 [==============================] - 0s 4ms/step - loss: 2.0574 - accuracy: 0.8654\n",
            "Epoch 46/100\n",
            "4/4 [==============================] - 0s 3ms/step - loss: 2.1366 - accuracy: 0.8602\n",
            "Epoch 47/100\n",
            "4/4 [==============================] - 0s 3ms/step - loss: 2.4270 - accuracy: 0.8415\n",
            "Epoch 48/100\n",
            "4/4 [==============================] - 0s 4ms/step - loss: 2.0911 - accuracy: 0.8633\n",
            "Epoch 49/100\n",
            "4/4 [==============================] - 0s 4ms/step - loss: 2.1795 - accuracy: 0.8576\n",
            "Epoch 50/100\n",
            "4/4 [==============================] - 0s 5ms/step - loss: 2.4570 - accuracy: 0.8394\n",
            "Epoch 51/100\n",
            "4/4 [==============================] - 0s 4ms/step - loss: 2.0911 - accuracy: 0.8633\n",
            "Epoch 52/100\n",
            "4/4 [==============================] - 0s 5ms/step - loss: 1.9806 - accuracy: 0.8706\n",
            "Epoch 53/100\n",
            "4/4 [==============================] - 0s 3ms/step - loss: 2.1871 - accuracy: 0.8571\n",
            "Epoch 54/100\n",
            "4/4 [==============================] - 0s 2ms/step - loss: 2.3216 - accuracy: 0.8482\n",
            "Epoch 55/100\n",
            "4/4 [==============================] - 0s 2ms/step - loss: 2.2491 - accuracy: 0.8529\n",
            "Epoch 56/100\n",
            "4/4 [==============================] - 0s 4ms/step - loss: 2.4990 - accuracy: 0.8368\n",
            "Epoch 57/100\n",
            "4/4 [==============================] - 0s 3ms/step - loss: 2.3450 - accuracy: 0.8467\n",
            "Epoch 58/100\n",
            "4/4 [==============================] - 0s 5ms/step - loss: 2.3370 - accuracy: 0.8472\n",
            "Epoch 59/100\n",
            "4/4 [==============================] - 0s 4ms/step - loss: 2.3134 - accuracy: 0.8488\n",
            "Epoch 60/100\n",
            "4/4 [==============================] - 0s 3ms/step - loss: 2.1216 - accuracy: 0.8613\n",
            "Epoch 61/100\n",
            "4/4 [==============================] - 0s 3ms/step - loss: 2.0423 - accuracy: 0.8665\n",
            "Epoch 62/100\n",
            "4/4 [==============================] - 0s 4ms/step - loss: 2.4259 - accuracy: 0.8415\n",
            "Epoch 63/100\n",
            "4/4 [==============================] - 0s 3ms/step - loss: 2.4100 - accuracy: 0.8425\n",
            "Epoch 64/100\n",
            "4/4 [==============================] - 0s 3ms/step - loss: 2.2180 - accuracy: 0.8550\n",
            "Epoch 65/100\n",
            "4/4 [==============================] - 0s 3ms/step - loss: 1.9806 - accuracy: 0.8706\n",
            "Epoch 66/100\n",
            "4/4 [==============================] - 0s 4ms/step - loss: 2.1696 - accuracy: 0.8581\n",
            "Epoch 67/100\n",
            "4/4 [==============================] - 0s 5ms/step - loss: 2.0515 - accuracy: 0.8660\n",
            "Epoch 68/100\n",
            "4/4 [==============================] - 0s 3ms/step - loss: 2.5448 - accuracy: 0.8337\n",
            "Epoch 69/100\n",
            "4/4 [==============================] - 0s 8ms/step - loss: 2.1318 - accuracy: 0.8607\n",
            "Epoch 70/100\n",
            "4/4 [==============================] - 0s 4ms/step - loss: 2.8163 - accuracy: 0.8160\n",
            "Epoch 71/100\n",
            "4/4 [==============================] - 0s 5ms/step - loss: 2.3766 - accuracy: 0.8446\n",
            "Epoch 72/100\n",
            "4/4 [==============================] - 0s 4ms/step - loss: 2.0984 - accuracy: 0.8628\n",
            "Epoch 73/100\n",
            "4/4 [==============================] - 0s 5ms/step - loss: 2.3860 - accuracy: 0.8441\n",
            "Epoch 74/100\n",
            "4/4 [==============================] - 0s 4ms/step - loss: 2.1225 - accuracy: 0.8613\n",
            "Epoch 75/100\n",
            "4/4 [==============================] - 0s 3ms/step - loss: 2.2260 - accuracy: 0.8545\n",
            "Epoch 76/100\n",
            "4/4 [==============================] - 0s 4ms/step - loss: 1.9250 - accuracy: 0.8743\n",
            "Epoch 77/100\n",
            "4/4 [==============================] - 0s 2ms/step - loss: 2.1066 - accuracy: 0.8623\n",
            "Epoch 78/100\n",
            "4/4 [==============================] - 0s 3ms/step - loss: 2.2169 - accuracy: 0.8550\n",
            "Epoch 79/100\n",
            "4/4 [==============================] - 0s 3ms/step - loss: 2.3286 - accuracy: 0.8477\n",
            "Epoch 80/100\n",
            "4/4 [==============================] - 0s 4ms/step - loss: 2.3548 - accuracy: 0.8462\n",
            "Epoch 81/100\n",
            "4/4 [==============================] - 0s 4ms/step - loss: 2.3616 - accuracy: 0.8456\n",
            "Epoch 82/100\n",
            "4/4 [==============================] - 0s 5ms/step - loss: 2.1781 - accuracy: 0.8576\n",
            "Epoch 83/100\n",
            "4/4 [==============================] - 0s 2ms/step - loss: 2.2591 - accuracy: 0.8524\n",
            "Epoch 84/100\n",
            "4/4 [==============================] - 0s 4ms/step - loss: 2.1789 - accuracy: 0.8576\n",
            "Epoch 85/100\n",
            "4/4 [==============================] - 0s 4ms/step - loss: 2.2564 - accuracy: 0.8524\n",
            "Epoch 86/100\n",
            "4/4 [==============================] - 0s 4ms/step - loss: 2.1928 - accuracy: 0.8566\n",
            "Epoch 87/100\n",
            "4/4 [==============================] - 0s 3ms/step - loss: 2.3691 - accuracy: 0.8451\n",
            "Epoch 88/100\n",
            "4/4 [==============================] - 0s 3ms/step - loss: 2.1228 - accuracy: 0.8613\n",
            "Epoch 89/100\n",
            "4/4 [==============================] - 0s 3ms/step - loss: 2.3142 - accuracy: 0.8488\n",
            "Epoch 90/100\n",
            "4/4 [==============================] - 0s 3ms/step - loss: 2.3767 - accuracy: 0.8446\n",
            "Epoch 91/100\n",
            "4/4 [==============================] - 0s 3ms/step - loss: 2.1855 - accuracy: 0.8571\n",
            "Epoch 92/100\n",
            "4/4 [==============================] - 0s 4ms/step - loss: 2.3139 - accuracy: 0.8488\n",
            "Epoch 93/100\n",
            "4/4 [==============================] - 0s 3ms/step - loss: 2.2208 - accuracy: 0.8550\n",
            "Epoch 94/100\n",
            "4/4 [==============================] - 0s 3ms/step - loss: 1.9391 - accuracy: 0.8732\n",
            "Epoch 95/100\n",
            "4/4 [==============================] - 0s 3ms/step - loss: 2.3142 - accuracy: 0.8488\n",
            "Epoch 96/100\n",
            "4/4 [==============================] - 0s 3ms/step - loss: 2.1636 - accuracy: 0.8587\n",
            "Epoch 97/100\n",
            "4/4 [==============================] - 0s 4ms/step - loss: 2.3851 - accuracy: 0.8441\n",
            "Epoch 98/100\n",
            "4/4 [==============================] - 0s 4ms/step - loss: 2.2988 - accuracy: 0.8498\n",
            "Epoch 99/100\n",
            "4/4 [==============================] - 0s 4ms/step - loss: 2.3458 - accuracy: 0.8467\n",
            "Epoch 100/100\n",
            "4/4 [==============================] - 0s 3ms/step - loss: 2.4180 - accuracy: 0.8420\n"
          ],
          "name": "stdout"
        },
        {
          "output_type": "execute_result",
          "data": {
            "text/plain": [
              "<tensorflow.python.keras.callbacks.History at 0x7f7aae277b50>"
            ]
          },
          "metadata": {
            "tags": []
          },
          "execution_count": 602
        }
      ]
    },
    {
      "cell_type": "markdown",
      "metadata": {
        "id": "WHymXXMseKN8"
      },
      "source": [
        "### Evaluation Step"
      ]
    },
    {
      "cell_type": "code",
      "metadata": {
        "colab": {
          "base_uri": "https://localhost:8080/"
        },
        "id": "krksbxHz3l0-",
        "outputId": "080010c3-e4d6-41b3-9746-edec7646fc25"
      },
      "source": [
        "test_loss, test_acc = model.evaluate(x_test, y_test) \n",
        "print('test_acc:', test_acc)"
      ],
      "execution_count": 603,
      "outputs": [
        {
          "output_type": "stream",
          "text": [
            "5/5 [==============================] - 0s 2ms/step - loss: 2.1853 - accuracy: 0.8511\n",
            "test_acc: 0.8510638475418091\n"
          ],
          "name": "stdout"
        }
      ]
    },
    {
      "cell_type": "markdown",
      "metadata": {
        "id": "D9Fhhf6Kddhj"
      },
      "source": [
        "### If the model gets overfit tune your model by changing the units , No. of layers , epochs , add dropout layer or add Regularizer according to the need ."
      ]
    },
    {
      "cell_type": "markdown",
      "metadata": {
        "id": "hzJRQYQb5tki"
      },
      "source": [
        ""
      ]
    },
    {
      "cell_type": "markdown",
      "metadata": {
        "id": "89Tbe-iefA8M"
      },
      "source": [
        "### Prediction"
      ]
    },
    {
      "cell_type": "code",
      "metadata": {
        "colab": {
          "base_uri": "https://localhost:8080/"
        },
        "id": "KxHgx82NfDaI",
        "outputId": "85c26a55-5c03-40fb-f0c6-30a203b674c9"
      },
      "source": [
        "model.predict(x_test)"
      ],
      "execution_count": 604,
      "outputs": [
        {
          "output_type": "execute_result",
          "data": {
            "text/plain": [
              "array([[   4.7836404 ],\n",
              "       [   4.09692   ],\n",
              "       [   6.532423  ],\n",
              "       [   4.2703214 ],\n",
              "       [   4.007483  ],\n",
              "       [   4.075875  ],\n",
              "       [   4.0529776 ],\n",
              "       [   6.6756096 ],\n",
              "       [   6.0885735 ],\n",
              "       [ -14.665889  ],\n",
              "       [  -1.0044374 ],\n",
              "       [ -17.460411  ],\n",
              "       [ -50.98668   ],\n",
              "       [   3.9500651 ],\n",
              "       [   4.038322  ],\n",
              "       [   4.0673337 ],\n",
              "       [   6.584284  ],\n",
              "       [ -13.58837   ],\n",
              "       [   3.9198446 ],\n",
              "       [ -30.735905  ],\n",
              "       [   4.061664  ],\n",
              "       [ -26.255692  ],\n",
              "       [ -74.006836  ],\n",
              "       [   3.9259965 ],\n",
              "       [   5.5353613 ],\n",
              "       [   0.51592517],\n",
              "       [ -16.936684  ],\n",
              "       [ -23.635551  ],\n",
              "       [ -15.830678  ],\n",
              "       [   3.9955966 ],\n",
              "       [   4.037066  ],\n",
              "       [   4.0076594 ],\n",
              "       [   4.1149683 ],\n",
              "       [   4.0754504 ],\n",
              "       [   6.2462645 ],\n",
              "       [ -64.46727   ],\n",
              "       [   5.6518345 ],\n",
              "       [   4.0113955 ],\n",
              "       [ -10.765924  ],\n",
              "       [   6.486496  ],\n",
              "       [   6.8904963 ],\n",
              "       [   4.1149683 ],\n",
              "       [  -7.4696703 ],\n",
              "       [ -18.962135  ],\n",
              "       [   6.7546034 ],\n",
              "       [ -14.997489  ],\n",
              "       [ -41.875694  ],\n",
              "       [   4.036819  ],\n",
              "       [ -17.331871  ],\n",
              "       [   6.6315155 ],\n",
              "       [ -21.332424  ],\n",
              "       [ -12.067353  ],\n",
              "       [ -25.565605  ],\n",
              "       [   3.8179693 ],\n",
              "       [ -33.982685  ],\n",
              "       [   4.503931  ],\n",
              "       [   4.1021624 ],\n",
              "       [   4.025477  ],\n",
              "       [   5.4815817 ],\n",
              "       [ -16.540443  ],\n",
              "       [ -32.93036   ],\n",
              "       [   4.0285068 ],\n",
              "       [ -11.702919  ],\n",
              "       [   3.9988704 ],\n",
              "       [   4.5892525 ],\n",
              "       [   3.3926353 ],\n",
              "       [   4.1149683 ],\n",
              "       [   4.1149683 ],\n",
              "       [   3.9497194 ],\n",
              "       [ -11.01654   ],\n",
              "       [   3.0512657 ],\n",
              "       [   7.0811396 ],\n",
              "       [   4.4109173 ],\n",
              "       [   4.006533  ],\n",
              "       [   4.0226398 ],\n",
              "       [   4.011451  ],\n",
              "       [ -24.778053  ],\n",
              "       [  -2.6240497 ],\n",
              "       [ -17.633862  ],\n",
              "       [   6.716654  ],\n",
              "       [   7.6913986 ],\n",
              "       [   3.9182863 ],\n",
              "       [   6.4834003 ],\n",
              "       [   4.1149683 ],\n",
              "       [   6.273472  ],\n",
              "       [   3.9547377 ],\n",
              "       [   3.9984705 ],\n",
              "       [ -58.839916  ],\n",
              "       [ -40.96449   ],\n",
              "       [ -52.57707   ],\n",
              "       [   6.5020967 ],\n",
              "       [ -71.35603   ],\n",
              "       [ -39.03379   ],\n",
              "       [   4.1149683 ],\n",
              "       [   3.9828067 ],\n",
              "       [   4.1149683 ],\n",
              "       [ -16.02847   ],\n",
              "       [   3.9930668 ],\n",
              "       [   3.9903033 ],\n",
              "       [   3.883009  ],\n",
              "       [ -18.215458  ],\n",
              "       [   4.1149683 ],\n",
              "       [   3.9518993 ],\n",
              "       [   3.94022   ],\n",
              "       [ -12.023936  ],\n",
              "       [   4.1149683 ],\n",
              "       [  -9.004579  ],\n",
              "       [   4.1149683 ],\n",
              "       [   4.8282933 ],\n",
              "       [   5.70125   ],\n",
              "       [ -23.12791   ],\n",
              "       [   3.875894  ],\n",
              "       [   3.9749138 ],\n",
              "       [  -5.563154  ],\n",
              "       [   3.6802268 ],\n",
              "       [ -28.999401  ],\n",
              "       [   3.9628844 ],\n",
              "       [  -8.36513   ],\n",
              "       [   6.8781276 ],\n",
              "       [ -17.30222   ],\n",
              "       [ -41.10621   ],\n",
              "       [   3.9774764 ],\n",
              "       [   4.0631    ],\n",
              "       [   6.7568145 ],\n",
              "       [  -3.1748252 ],\n",
              "       [ -17.674366  ],\n",
              "       [ -51.81333   ],\n",
              "       [   4.1149683 ],\n",
              "       [  -2.8241076 ],\n",
              "       [   3.9510527 ],\n",
              "       [   4.091292  ],\n",
              "       [ -10.131282  ],\n",
              "       [   0.5137725 ],\n",
              "       [   2.594639  ],\n",
              "       [   6.463295  ],\n",
              "       [   3.6736753 ],\n",
              "       [ -59.294533  ],\n",
              "       [   3.7105732 ],\n",
              "       [-101.83216   ],\n",
              "       [ -21.79327   ],\n",
              "       [   4.0278273 ]], dtype=float32)"
            ]
          },
          "metadata": {
            "tags": []
          },
          "execution_count": 604
        }
      ]
    }
  ]
}